{
  "cells": [
    {
      "cell_type": "markdown",
      "metadata": {
        "id": "EnUyaM8JEzDj"
      },
      "source": [
        "# Setting the environment\n",
        "\n"
      ]
    },
    {
      "cell_type": "code",
      "execution_count": 15,
      "metadata": {
        "colab": {
          "base_uri": "https://localhost:8080/"
        },
        "id": "vZ2FIZfp6NCh",
        "outputId": "d1039e25-e027-4423-c93a-8fc77748383c"
      },
      "outputs": [],
      "source": [
        "# !git pull https://github.com/abasilio91/brecom-analysis/\n",
        "\n",
        "# Go to https://www.kaggle.com/docs/api and follow procedure to download your kaggle.json file.\n",
        "# After that, if you are using Google Colab, upload it in the content folder\n",
        "# If not, move your kaggle.json to the your .kaggle folder"
      ]
    },
    {
      "cell_type": "code",
      "execution_count": 1,
      "metadata": {
        "colab": {
          "base_uri": "https://localhost:8080/"
        },
        "id": "yPAwAgFGMv6Y",
        "outputId": "dfb64cae-cc3e-4b80-b083-ab06c0296507"
      },
      "outputs": [
        {
          "name": "stdout",
          "output_type": "stream",
          "text": [
            "Requirement already satisfied: pandas in c:\\users\\adam_\\appdata\\local\\programs\\python\\python312\\lib\\site-packages (from -r requirements.txt (line 1)) (2.2.0)\n",
            "Requirement already satisfied: kaggle in c:\\users\\adam_\\appdata\\local\\programs\\python\\python312\\lib\\site-packages (from -r requirements.txt (line 2)) (1.6.5)\n",
            "Requirement already satisfied: numpy in c:\\users\\adam_\\appdata\\local\\programs\\python\\python312\\lib\\site-packages (from -r requirements.txt (line 3)) (1.26.4)\n",
            "Collecting openai (from -r requirements.txt (line 4))\n",
            "  Obtaining dependency information for openai from https://files.pythonhosted.org/packages/26/a1/75474477af2a1dae3a25f80b72bbaf20e8296191ece7fff2f67984206f33/openai-1.12.0-py3-none-any.whl.metadata\n",
            "  Downloading openai-1.12.0-py3-none-any.whl.metadata (18 kB)\n",
            "Requirement already satisfied: python-dateutil>=2.8.2 in c:\\users\\adam_\\appdata\\roaming\\python\\python312\\site-packages (from pandas->-r requirements.txt (line 1)) (2.8.2)\n",
            "Requirement already satisfied: pytz>=2020.1 in c:\\users\\adam_\\appdata\\local\\programs\\python\\python312\\lib\\site-packages (from pandas->-r requirements.txt (line 1)) (2024.1)\n",
            "Requirement already satisfied: tzdata>=2022.7 in c:\\users\\adam_\\appdata\\local\\programs\\python\\python312\\lib\\site-packages (from pandas->-r requirements.txt (line 1)) (2023.4)\n",
            "Requirement already satisfied: six>=1.10 in c:\\users\\adam_\\appdata\\roaming\\python\\python312\\site-packages (from kaggle->-r requirements.txt (line 2)) (1.16.0)\n",
            "Requirement already satisfied: certifi in c:\\users\\adam_\\appdata\\local\\programs\\python\\python312\\lib\\site-packages (from kaggle->-r requirements.txt (line 2)) (2024.2.2)\n",
            "Requirement already satisfied: requests in c:\\users\\adam_\\appdata\\local\\programs\\python\\python312\\lib\\site-packages (from kaggle->-r requirements.txt (line 2)) (2.31.0)\n",
            "Requirement already satisfied: tqdm in c:\\users\\adam_\\appdata\\local\\programs\\python\\python312\\lib\\site-packages (from kaggle->-r requirements.txt (line 2)) (4.66.1)\n",
            "Requirement already satisfied: python-slugify in c:\\users\\adam_\\appdata\\local\\programs\\python\\python312\\lib\\site-packages (from kaggle->-r requirements.txt (line 2)) (8.0.4)\n",
            "Requirement already satisfied: urllib3 in c:\\users\\adam_\\appdata\\local\\programs\\python\\python312\\lib\\site-packages (from kaggle->-r requirements.txt (line 2)) (2.2.0)\n",
            "Requirement already satisfied: bleach in c:\\users\\adam_\\appdata\\local\\programs\\python\\python312\\lib\\site-packages (from kaggle->-r requirements.txt (line 2)) (6.1.0)\n",
            "Collecting anyio<5,>=3.5.0 (from openai->-r requirements.txt (line 4))\n",
            "  Obtaining dependency information for anyio<5,>=3.5.0 from https://files.pythonhosted.org/packages/bf/cd/d6d9bb1dadf73e7af02d18225cbd2c93f8552e13130484f1c8dcfece292b/anyio-4.2.0-py3-none-any.whl.metadata\n",
            "  Downloading anyio-4.2.0-py3-none-any.whl.metadata (4.6 kB)\n",
            "Collecting distro<2,>=1.7.0 (from openai->-r requirements.txt (line 4))\n",
            "  Obtaining dependency information for distro<2,>=1.7.0 from https://files.pythonhosted.org/packages/12/b3/231ffd4ab1fc9d679809f356cebee130ac7daa00d6d6f3206dd4fd137e9e/distro-1.9.0-py3-none-any.whl.metadata\n",
            "  Downloading distro-1.9.0-py3-none-any.whl.metadata (6.8 kB)\n",
            "Collecting httpx<1,>=0.23.0 (from openai->-r requirements.txt (line 4))\n",
            "  Obtaining dependency information for httpx<1,>=0.23.0 from https://files.pythonhosted.org/packages/39/9b/4937d841aee9c2c8102d9a4eeb800c7dad25386caabb4a1bf5010df81a57/httpx-0.26.0-py3-none-any.whl.metadata\n",
            "  Downloading httpx-0.26.0-py3-none-any.whl.metadata (7.6 kB)\n",
            "Collecting pydantic<3,>=1.9.0 (from openai->-r requirements.txt (line 4))\n",
            "  Obtaining dependency information for pydantic<3,>=1.9.0 from https://files.pythonhosted.org/packages/db/dc/afecbd9650f486889181c6d1a0d675b580c06253ea7e304588e4c7485bdb/pydantic-2.6.1-py3-none-any.whl.metadata\n",
            "  Downloading pydantic-2.6.1-py3-none-any.whl.metadata (83 kB)\n",
            "     ---------------------------------------- 0.0/83.5 kB ? eta -:--:--\n",
            "     ----------------------------- ---------- 61.4/83.5 kB 1.1 MB/s eta 0:00:01\n",
            "     ---------------------------------------  81.9/83.5 kB 1.5 MB/s eta 0:00:01\n",
            "     -------------------------------------- 83.5/83.5 kB 779.1 kB/s eta 0:00:00\n",
            "Collecting sniffio (from openai->-r requirements.txt (line 4))\n",
            "  Using cached sniffio-1.3.0-py3-none-any.whl (10 kB)\n",
            "Collecting typing-extensions<5,>=4.7 (from openai->-r requirements.txt (line 4))\n",
            "  Obtaining dependency information for typing-extensions<5,>=4.7 from https://files.pythonhosted.org/packages/b7/f4/6a90020cd2d93349b442bfcb657d0dc91eee65491600b2cb1d388bc98e6b/typing_extensions-4.9.0-py3-none-any.whl.metadata\n",
            "  Downloading typing_extensions-4.9.0-py3-none-any.whl.metadata (3.0 kB)\n",
            "Requirement already satisfied: idna>=2.8 in c:\\users\\adam_\\appdata\\local\\programs\\python\\python312\\lib\\site-packages (from anyio<5,>=3.5.0->openai->-r requirements.txt (line 4)) (3.6)\n",
            "Collecting httpcore==1.* (from httpx<1,>=0.23.0->openai->-r requirements.txt (line 4))\n",
            "  Obtaining dependency information for httpcore==1.* from https://files.pythonhosted.org/packages/56/ba/78b0a99c4da0ff8b0f59defa2f13ca4668189b134bd9840b6202a93d9a0f/httpcore-1.0.2-py3-none-any.whl.metadata\n",
            "  Downloading httpcore-1.0.2-py3-none-any.whl.metadata (20 kB)\n",
            "Collecting h11<0.15,>=0.13 (from httpcore==1.*->httpx<1,>=0.23.0->openai->-r requirements.txt (line 4))\n",
            "  Using cached h11-0.14.0-py3-none-any.whl (58 kB)\n",
            "Collecting annotated-types>=0.4.0 (from pydantic<3,>=1.9.0->openai->-r requirements.txt (line 4))\n",
            "  Obtaining dependency information for annotated-types>=0.4.0 from https://files.pythonhosted.org/packages/28/78/d31230046e58c207284c6b2c4e8d96e6d3cb4e52354721b944d3e1ee4aa5/annotated_types-0.6.0-py3-none-any.whl.metadata\n",
            "  Downloading annotated_types-0.6.0-py3-none-any.whl.metadata (12 kB)\n",
            "Collecting pydantic-core==2.16.2 (from pydantic<3,>=1.9.0->openai->-r requirements.txt (line 4))\n",
            "  Obtaining dependency information for pydantic-core==2.16.2 from https://files.pythonhosted.org/packages/d3/e7/13e9a66ce49a1e63119fb3c1e1a4d917b1326488cf9f0d8b007d8dc44f2a/pydantic_core-2.16.2-cp312-none-win_amd64.whl.metadata\n",
            "  Downloading pydantic_core-2.16.2-cp312-none-win_amd64.whl.metadata (6.6 kB)\n",
            "Requirement already satisfied: colorama in c:\\users\\adam_\\appdata\\roaming\\python\\python312\\site-packages (from tqdm->kaggle->-r requirements.txt (line 2)) (0.4.6)\n",
            "Requirement already satisfied: webencodings in c:\\users\\adam_\\appdata\\local\\programs\\python\\python312\\lib\\site-packages (from bleach->kaggle->-r requirements.txt (line 2)) (0.5.1)\n",
            "Requirement already satisfied: text-unidecode>=1.3 in c:\\users\\adam_\\appdata\\local\\programs\\python\\python312\\lib\\site-packages (from python-slugify->kaggle->-r requirements.txt (line 2)) (1.3)\n",
            "Requirement already satisfied: charset-normalizer<4,>=2 in c:\\users\\adam_\\appdata\\local\\programs\\python\\python312\\lib\\site-packages (from requests->kaggle->-r requirements.txt (line 2)) (3.3.2)\n",
            "Downloading openai-1.12.0-py3-none-any.whl (226 kB)\n",
            "   ---------------------------------------- 0.0/226.7 kB ? eta -:--:--\n",
            "   -------------- ------------------------- 81.9/226.7 kB 2.3 MB/s eta 0:00:01\n",
            "   ---------------------------- ----------- 163.8/226.7 kB 2.0 MB/s eta 0:00:01\n",
            "   ---------------------------------------  225.3/226.7 kB 2.0 MB/s eta 0:00:01\n",
            "   ---------------------------------------- 226.7/226.7 kB 1.4 MB/s eta 0:00:00\n",
            "Downloading anyio-4.2.0-py3-none-any.whl (85 kB)\n",
            "   ---------------------------------------- 0.0/85.5 kB ? eta -:--:--\n",
            "   -------------------------------------- - 81.9/85.5 kB 4.8 MB/s eta 0:00:01\n",
            "   ---------------------------------------- 85.5/85.5 kB 1.6 MB/s eta 0:00:00\n",
            "Downloading distro-1.9.0-py3-none-any.whl (20 kB)\n",
            "Downloading httpx-0.26.0-py3-none-any.whl (75 kB)\n",
            "   ---------------------------------------- 0.0/75.9 kB ? eta -:--:--\n",
            "   ---------------------------------------- 75.9/75.9 kB 2.1 MB/s eta 0:00:00\n",
            "Downloading httpcore-1.0.2-py3-none-any.whl (76 kB)\n",
            "   ---------------------------------------- 0.0/76.9 kB ? eta -:--:--\n",
            "   ------------------------------------- -- 71.7/76.9 kB ? eta -:--:--\n",
            "   ---------------------------------------- 76.9/76.9 kB 1.4 MB/s eta 0:00:00\n",
            "Downloading pydantic-2.6.1-py3-none-any.whl (394 kB)\n",
            "   ---------------------------------------- 0.0/394.8 kB ? eta -:--:--\n",
            "   --------------- ------------------------ 153.6/394.8 kB 4.6 MB/s eta 0:00:01\n",
            "   ---------------------- ----------------- 225.3/394.8 kB 4.7 MB/s eta 0:00:01\n",
            "   -------------------------------- ------- 317.4/394.8 kB 2.8 MB/s eta 0:00:01\n",
            "   ---------------------------------------  389.1/394.8 kB 2.7 MB/s eta 0:00:01\n",
            "   ---------------------------------------  389.1/394.8 kB 2.7 MB/s eta 0:00:01\n",
            "   ---------------------------------------- 394.8/394.8 kB 1.6 MB/s eta 0:00:00\n",
            "Downloading pydantic_core-2.16.2-cp312-none-win_amd64.whl (1.9 MB)\n",
            "   ---------------------------------------- 0.0/1.9 MB ? eta -:--:--\n",
            "   --- ------------------------------------ 0.1/1.9 MB 4.2 MB/s eta 0:00:01\n",
            "   ------ --------------------------------- 0.3/1.9 MB 4.7 MB/s eta 0:00:01\n",
            "   ---------- ----------------------------- 0.5/1.9 MB 4.3 MB/s eta 0:00:01\n",
            "   --------------- ------------------------ 0.7/1.9 MB 4.4 MB/s eta 0:00:01\n",
            "   ------------------- -------------------- 0.9/1.9 MB 4.2 MB/s eta 0:00:01\n",
            "   ------------------------ --------------- 1.1/1.9 MB 4.3 MB/s eta 0:00:01\n",
            "   ------------------------------ --------- 1.4/1.9 MB 4.4 MB/s eta 0:00:01\n",
            "   ---------------------------------- ----- 1.6/1.9 MB 4.4 MB/s eta 0:00:01\n",
            "   ---------------------------------------  1.8/1.9 MB 4.4 MB/s eta 0:00:01\n",
            "   ---------------------------------------  1.8/1.9 MB 4.3 MB/s eta 0:00:01\n",
            "   ---------------------------------------- 1.9/1.9 MB 3.7 MB/s eta 0:00:00\n",
            "Downloading typing_extensions-4.9.0-py3-none-any.whl (32 kB)\n",
            "Downloading annotated_types-0.6.0-py3-none-any.whl (12 kB)\n",
            "Installing collected packages: typing-extensions, sniffio, h11, distro, annotated-types, pydantic-core, httpcore, anyio, pydantic, httpx, openai\n",
            "Successfully installed annotated-types-0.6.0 anyio-4.2.0 distro-1.9.0 h11-0.14.0 httpcore-1.0.2 httpx-0.26.0 openai-1.12.0 pydantic-2.6.1 pydantic-core-2.16.2 sniffio-1.3.0 typing-extensions-4.9.0\n"
          ]
        },
        {
          "name": "stderr",
          "output_type": "stream",
          "text": [
            "\n",
            "[notice] A new release of pip is available: 23.2.1 -> 24.0\n",
            "[notice] To update, run: python.exe -m pip install --upgrade pip\n"
          ]
        }
      ],
      "source": [
        "!pip install -r requirements.txt"
      ]
    },
    {
      "cell_type": "code",
      "execution_count": 2,
      "metadata": {
        "id": "mI7Zkhm19vlk"
      },
      "outputs": [
        {
          "name": "stderr",
          "output_type": "stream",
          "text": [
            "C:\\Users\\adam_\\AppData\\Local\\Temp\\ipykernel_20220\\3087188760.py:1: DeprecationWarning: \n",
            "Pyarrow will become a required dependency of pandas in the next major release of pandas (pandas 3.0),\n",
            "(to allow more performant data types, such as the Arrow string type, and better interoperability with other libraries)\n",
            "but was not found to be installed on your system.\n",
            "If this would cause problems for you,\n",
            "please provide us feedback at https://github.com/pandas-dev/pandas/issues/54466\n",
            "        \n",
            "  import pandas as pd\n"
          ]
        }
      ],
      "source": [
        "import pandas as pd\n",
        "import numpy as np\n",
        "from openai import OpenAI"
      ]
    },
    {
      "cell_type": "code",
      "execution_count": 18,
      "metadata": {
        "colab": {
          "base_uri": "https://localhost:8080/"
        },
        "id": "TVZRagAZ0CTq",
        "outputId": "67ea4133-62c3-4685-825e-3de3d204b47b"
      },
      "outputs": [
        {
          "name": "stdout",
          "output_type": "stream",
          "text": [
            "Downloading brazilian-ecommerce.zip to D:\\Adam\\Estudos\\ADA\\tecprog\\projeto\\brecom-analysis\\database\n",
            "\n"
          ]
        },
        {
          "name": "stderr",
          "output_type": "stream",
          "text": [
            "\n",
            "  0%|          | 0.00/42.6M [00:00<?, ?B/s]\n",
            "  2%|▏         | 1.00M/42.6M [00:00<00:29, 1.46MB/s]\n",
            "  5%|▍         | 2.00M/42.6M [00:00<00:14, 2.92MB/s]\n",
            "  9%|▉         | 4.00M/42.6M [00:00<00:06, 6.19MB/s]\n",
            " 16%|█▋        | 7.00M/42.6M [00:01<00:03, 10.6MB/s]\n",
            " 23%|██▎       | 10.0M/42.6M [00:01<00:02, 13.6MB/s]\n",
            " 30%|███       | 13.0M/42.6M [00:01<00:01, 15.8MB/s]\n",
            " 35%|███▌      | 15.0M/42.6M [00:01<00:01, 16.8MB/s]\n",
            " 42%|████▏     | 18.0M/42.6M [00:01<00:01, 18.5MB/s]\n",
            " 49%|████▉     | 21.0M/42.6M [00:01<00:01, 19.8MB/s]\n",
            " 56%|█████▋    | 24.0M/42.6M [00:01<00:00, 21.3MB/s]\n",
            " 63%|██████▎   | 27.0M/42.6M [00:02<00:00, 22.2MB/s]\n",
            " 70%|███████   | 30.0M/42.6M [00:02<00:00, 23.0MB/s]\n",
            " 77%|███████▋  | 33.0M/42.6M [00:02<00:00, 23.4MB/s]\n",
            " 84%|████████▍ | 36.0M/42.6M [00:02<00:00, 22.5MB/s]\n",
            " 91%|█████████▏| 39.0M/42.6M [00:02<00:00, 22.7MB/s]\n",
            " 98%|█████████▊| 42.0M/42.6M [00:02<00:00, 22.5MB/s]\n",
            "100%|██████████| 42.6M/42.6M [00:02<00:00, 16.4MB/s]\n"
          ]
        }
      ],
      "source": [
        "!kaggle datasets download -d olistbr/brazilian-ecommerce -p D:\\Adam\\Estudos\\ADA\\tecprog\\projeto\\brecom-analysis\\database --unzip"
      ]
    },
    {
      "cell_type": "markdown",
      "metadata": {
        "id": "v6tB_RfIE7Ks"
      },
      "source": [
        "## loading files into memory"
      ]
    },
    {
      "cell_type": "code",
      "execution_count": 20,
      "metadata": {
        "id": "IaF486D2D2xs"
      },
      "outputs": [],
      "source": [
        "# Quasi-database using pandas\n",
        "customers = pd.read_csv('database/olist_customers_dataset.csv', dtype=str)\n",
        "geolocation = pd.read_csv('database/olist_geolocation_dataset.csv', dtype=str)\n",
        "order_items = pd.read_csv('database/olist_order_items_dataset.csv', dtype=str)\n",
        "order_payments = pd.read_csv('database/olist_order_payments_dataset.csv', dtype=str)\n",
        "order_reviews = pd.read_csv('database/olist_order_reviews_dataset.csv', dtype=str)\n",
        "orders = pd.read_csv('database/olist_orders_dataset.csv', dtype=str)\n",
        "products = pd.read_csv('database/olist_products_dataset.csv', dtype=str)\n",
        "sellers = pd.read_csv('database/olist_sellers_dataset.csv', dtype=str)"
      ]
    },
    {
      "cell_type": "markdown",
      "metadata": {
        "id": "YfzdyQqKE-Kv"
      },
      "source": [
        "# Exploratory analysis"
      ]
    },
    {
      "cell_type": "markdown",
      "metadata": {
        "id": "i51tv5Q4BYoV"
      },
      "source": [
        "## Checking for inconsistancies"
      ]
    },
    {
      "cell_type": "markdown",
      "metadata": {
        "id": "wKNngPhhKqRU"
      },
      "source": [
        "### Customers"
      ]
    },
    {
      "cell_type": "code",
      "execution_count": 21,
      "metadata": {
        "colab": {
          "base_uri": "https://localhost:8080/",
          "height": 0
        },
        "id": "Qrhjpyv_FDLi",
        "outputId": "f3aad0da-c6c7-45bd-e476-bc3da3bbe3ab"
      },
      "outputs": [
        {
          "data": {
            "text/html": [
              "<div>\n",
              "<style scoped>\n",
              "    .dataframe tbody tr th:only-of-type {\n",
              "        vertical-align: middle;\n",
              "    }\n",
              "\n",
              "    .dataframe tbody tr th {\n",
              "        vertical-align: top;\n",
              "    }\n",
              "\n",
              "    .dataframe thead th {\n",
              "        text-align: right;\n",
              "    }\n",
              "</style>\n",
              "<table border=\"1\" class=\"dataframe\">\n",
              "  <thead>\n",
              "    <tr style=\"text-align: right;\">\n",
              "      <th></th>\n",
              "      <th>customer_id</th>\n",
              "      <th>customer_unique_id</th>\n",
              "      <th>customer_zip_code_prefix</th>\n",
              "      <th>customer_city</th>\n",
              "      <th>customer_state</th>\n",
              "    </tr>\n",
              "  </thead>\n",
              "  <tbody>\n",
              "    <tr>\n",
              "      <th>0</th>\n",
              "      <td>06b8999e2fba1a1fbc88172c00ba8bc7</td>\n",
              "      <td>861eff4711a542e4b93843c6dd7febb0</td>\n",
              "      <td>14409</td>\n",
              "      <td>franca</td>\n",
              "      <td>SP</td>\n",
              "    </tr>\n",
              "    <tr>\n",
              "      <th>1</th>\n",
              "      <td>18955e83d337fd6b2def6b18a428ac77</td>\n",
              "      <td>290c77bc529b7ac935b93aa66c333dc3</td>\n",
              "      <td>09790</td>\n",
              "      <td>sao bernardo do campo</td>\n",
              "      <td>SP</td>\n",
              "    </tr>\n",
              "    <tr>\n",
              "      <th>2</th>\n",
              "      <td>4e7b3e00288586ebd08712fdd0374a03</td>\n",
              "      <td>060e732b5b29e8181a18229c7b0b2b5e</td>\n",
              "      <td>01151</td>\n",
              "      <td>sao paulo</td>\n",
              "      <td>SP</td>\n",
              "    </tr>\n",
              "    <tr>\n",
              "      <th>3</th>\n",
              "      <td>b2b6027bc5c5109e529d4dc6358b12c3</td>\n",
              "      <td>259dac757896d24d7702b9acbbff3f3c</td>\n",
              "      <td>08775</td>\n",
              "      <td>mogi das cruzes</td>\n",
              "      <td>SP</td>\n",
              "    </tr>\n",
              "    <tr>\n",
              "      <th>4</th>\n",
              "      <td>4f2d8ab171c80ec8364f7c12e35b23ad</td>\n",
              "      <td>345ecd01c38d18a9036ed96c73b8d066</td>\n",
              "      <td>13056</td>\n",
              "      <td>campinas</td>\n",
              "      <td>SP</td>\n",
              "    </tr>\n",
              "    <tr>\n",
              "      <th>...</th>\n",
              "      <td>...</td>\n",
              "      <td>...</td>\n",
              "      <td>...</td>\n",
              "      <td>...</td>\n",
              "      <td>...</td>\n",
              "    </tr>\n",
              "    <tr>\n",
              "      <th>99436</th>\n",
              "      <td>17ddf5dd5d51696bb3d7c6291687be6f</td>\n",
              "      <td>1a29b476fee25c95fbafc67c5ac95cf8</td>\n",
              "      <td>03937</td>\n",
              "      <td>sao paulo</td>\n",
              "      <td>SP</td>\n",
              "    </tr>\n",
              "    <tr>\n",
              "      <th>99437</th>\n",
              "      <td>e7b71a9017aa05c9a7fd292d714858e8</td>\n",
              "      <td>d52a67c98be1cf6a5c84435bd38d095d</td>\n",
              "      <td>06764</td>\n",
              "      <td>taboao da serra</td>\n",
              "      <td>SP</td>\n",
              "    </tr>\n",
              "    <tr>\n",
              "      <th>99438</th>\n",
              "      <td>5e28dfe12db7fb50a4b2f691faecea5e</td>\n",
              "      <td>e9f50caf99f032f0bf3c55141f019d99</td>\n",
              "      <td>60115</td>\n",
              "      <td>fortaleza</td>\n",
              "      <td>CE</td>\n",
              "    </tr>\n",
              "    <tr>\n",
              "      <th>99439</th>\n",
              "      <td>56b18e2166679b8a959d72dd06da27f9</td>\n",
              "      <td>73c2643a0a458b49f58cea58833b192e</td>\n",
              "      <td>92120</td>\n",
              "      <td>canoas</td>\n",
              "      <td>RS</td>\n",
              "    </tr>\n",
              "    <tr>\n",
              "      <th>99440</th>\n",
              "      <td>274fa6071e5e17fe303b9748641082c8</td>\n",
              "      <td>84732c5050c01db9b23e19ba39899398</td>\n",
              "      <td>06703</td>\n",
              "      <td>cotia</td>\n",
              "      <td>SP</td>\n",
              "    </tr>\n",
              "  </tbody>\n",
              "</table>\n",
              "<p>99441 rows × 5 columns</p>\n",
              "</div>"
            ],
            "text/plain": [
              "                            customer_id                customer_unique_id  \\\n",
              "0      06b8999e2fba1a1fbc88172c00ba8bc7  861eff4711a542e4b93843c6dd7febb0   \n",
              "1      18955e83d337fd6b2def6b18a428ac77  290c77bc529b7ac935b93aa66c333dc3   \n",
              "2      4e7b3e00288586ebd08712fdd0374a03  060e732b5b29e8181a18229c7b0b2b5e   \n",
              "3      b2b6027bc5c5109e529d4dc6358b12c3  259dac757896d24d7702b9acbbff3f3c   \n",
              "4      4f2d8ab171c80ec8364f7c12e35b23ad  345ecd01c38d18a9036ed96c73b8d066   \n",
              "...                                 ...                               ...   \n",
              "99436  17ddf5dd5d51696bb3d7c6291687be6f  1a29b476fee25c95fbafc67c5ac95cf8   \n",
              "99437  e7b71a9017aa05c9a7fd292d714858e8  d52a67c98be1cf6a5c84435bd38d095d   \n",
              "99438  5e28dfe12db7fb50a4b2f691faecea5e  e9f50caf99f032f0bf3c55141f019d99   \n",
              "99439  56b18e2166679b8a959d72dd06da27f9  73c2643a0a458b49f58cea58833b192e   \n",
              "99440  274fa6071e5e17fe303b9748641082c8  84732c5050c01db9b23e19ba39899398   \n",
              "\n",
              "      customer_zip_code_prefix          customer_city customer_state  \n",
              "0                        14409                 franca             SP  \n",
              "1                        09790  sao bernardo do campo             SP  \n",
              "2                        01151              sao paulo             SP  \n",
              "3                        08775        mogi das cruzes             SP  \n",
              "4                        13056               campinas             SP  \n",
              "...                        ...                    ...            ...  \n",
              "99436                    03937              sao paulo             SP  \n",
              "99437                    06764        taboao da serra             SP  \n",
              "99438                    60115              fortaleza             CE  \n",
              "99439                    92120                 canoas             RS  \n",
              "99440                    06703                  cotia             SP  \n",
              "\n",
              "[99441 rows x 5 columns]"
            ]
          },
          "execution_count": 21,
          "metadata": {},
          "output_type": "execute_result"
        }
      ],
      "source": [
        "customers"
      ]
    },
    {
      "cell_type": "code",
      "execution_count": 22,
      "metadata": {
        "colab": {
          "base_uri": "https://localhost:8080/"
        },
        "id": "OHCf-xKzMScN",
        "outputId": "7f2befb9-9937-46f3-df61-fa951964bbf1"
      },
      "outputs": [
        {
          "data": {
            "text/plain": [
              "96096"
            ]
          },
          "execution_count": 22,
          "metadata": {},
          "output_type": "execute_result"
        }
      ],
      "source": [
        "n_unique_customers = len(customers.customer_unique_id.unique())\n",
        "n_unique_customers"
      ]
    },
    {
      "cell_type": "code",
      "execution_count": 23,
      "metadata": {
        "colab": {
          "base_uri": "https://localhost:8080/"
        },
        "id": "Zl34BOvMNL-p",
        "outputId": "3803e985-6822-450a-c253-a259c5de1b6e"
      },
      "outputs": [
        {
          "data": {
            "text/plain": [
              "99441"
            ]
          },
          "execution_count": 23,
          "metadata": {},
          "output_type": "execute_result"
        }
      ],
      "source": [
        "n_base_customers = len(customers.customer_id.unique())\n",
        "n_base_customers"
      ]
    },
    {
      "cell_type": "markdown",
      "metadata": {
        "id": "572G7LJuNXXH"
      },
      "source": [
        "Since `n_unique_customers` $\\neq$ `n_base_customers`, it seems the same customer can show up in the base in different cities."
      ]
    },
    {
      "cell_type": "code",
      "execution_count": 24,
      "metadata": {
        "colab": {
          "base_uri": "https://localhost:8080/"
        },
        "id": "YEzAuTxBN27z",
        "outputId": "cd956bfd-4936-4d06-ba7d-2db14e1abbd1"
      },
      "outputs": [
        {
          "data": {
            "text/plain": [
              "customer_unique_id\n",
              "8d50f5eadf50201ccdcedfb9e2ac8455    17\n",
              "3e43e6105506432c953e165fb2acf44c     9\n",
              "6469f99c1f9dfae7733b25662e7f1782     7\n",
              "ca77025e7201e3b30c44b472ff346268     7\n",
              "1b6c7548a2a1f9037c1fd3ddfed95f33     7\n",
              "                                    ..\n",
              "5657dfebff5868c4dc7e8355fea865c4     1\n",
              "5657596addb4d7b07b32cd330614bdf8     1\n",
              "5656eb169546146caeab56c3ffc3d268     1\n",
              "5656a8fabc8629ff96b2bc14f8c09a27     1\n",
              "ffffd2657e2aad2907e67c3e9daecbeb     1\n",
              "Name: count, Length: 96096, dtype: int64"
            ]
          },
          "execution_count": 24,
          "metadata": {},
          "output_type": "execute_result"
        }
      ],
      "source": [
        "# Checking for customers with multiple city entries\n",
        "\n",
        "customers.value_counts(subset='customer_unique_id')"
      ]
    },
    {
      "cell_type": "code",
      "execution_count": 25,
      "metadata": {
        "colab": {
          "base_uri": "https://localhost:8080/"
        },
        "id": "cDHYzLjgzlGp",
        "outputId": "eacc5ee2-27d2-4b20-a9f5-6aa257c117b2"
      },
      "outputs": [
        {
          "data": {
            "text/plain": [
              "customer_id  customer_unique_id  customer_zip_code_prefix  customer_city  customer_state\n",
              "False        False               False                     False          False             99441\n",
              "Name: count, dtype: int64"
            ]
          },
          "execution_count": 25,
          "metadata": {},
          "output_type": "execute_result"
        }
      ],
      "source": [
        "# NaN values\n",
        "\n",
        "customers.isna().value_counts()"
      ]
    },
    {
      "cell_type": "markdown",
      "metadata": {
        "id": "wROovICYBneV"
      },
      "source": [
        "No inconsistancies were found in this base."
      ]
    },
    {
      "cell_type": "markdown",
      "metadata": {
        "id": "b4-Q_VodL-Fs"
      },
      "source": [
        "### Geolocation"
      ]
    },
    {
      "cell_type": "code",
      "execution_count": 26,
      "metadata": {
        "colab": {
          "base_uri": "https://localhost:8080/",
          "height": 424
        },
        "id": "EXQshvvJJqWN",
        "outputId": "f1d81b0b-4668-49eb-8501-f68f5bcc1adb"
      },
      "outputs": [
        {
          "data": {
            "text/html": [
              "<div>\n",
              "<style scoped>\n",
              "    .dataframe tbody tr th:only-of-type {\n",
              "        vertical-align: middle;\n",
              "    }\n",
              "\n",
              "    .dataframe tbody tr th {\n",
              "        vertical-align: top;\n",
              "    }\n",
              "\n",
              "    .dataframe thead th {\n",
              "        text-align: right;\n",
              "    }\n",
              "</style>\n",
              "<table border=\"1\" class=\"dataframe\">\n",
              "  <thead>\n",
              "    <tr style=\"text-align: right;\">\n",
              "      <th></th>\n",
              "      <th>geolocation_zip_code_prefix</th>\n",
              "      <th>geolocation_lat</th>\n",
              "      <th>geolocation_lng</th>\n",
              "      <th>geolocation_city</th>\n",
              "      <th>geolocation_state</th>\n",
              "    </tr>\n",
              "  </thead>\n",
              "  <tbody>\n",
              "    <tr>\n",
              "      <th>0</th>\n",
              "      <td>01037</td>\n",
              "      <td>-23.54562128115268</td>\n",
              "      <td>-46.63929204800168</td>\n",
              "      <td>sao paulo</td>\n",
              "      <td>SP</td>\n",
              "    </tr>\n",
              "    <tr>\n",
              "      <th>1</th>\n",
              "      <td>01046</td>\n",
              "      <td>-23.546081127035535</td>\n",
              "      <td>-46.64482029837157</td>\n",
              "      <td>sao paulo</td>\n",
              "      <td>SP</td>\n",
              "    </tr>\n",
              "    <tr>\n",
              "      <th>2</th>\n",
              "      <td>01046</td>\n",
              "      <td>-23.54612896641469</td>\n",
              "      <td>-46.64295148361138</td>\n",
              "      <td>sao paulo</td>\n",
              "      <td>SP</td>\n",
              "    </tr>\n",
              "    <tr>\n",
              "      <th>3</th>\n",
              "      <td>01041</td>\n",
              "      <td>-23.5443921648681</td>\n",
              "      <td>-46.63949930627844</td>\n",
              "      <td>sao paulo</td>\n",
              "      <td>SP</td>\n",
              "    </tr>\n",
              "    <tr>\n",
              "      <th>4</th>\n",
              "      <td>01035</td>\n",
              "      <td>-23.541577961711493</td>\n",
              "      <td>-46.64160722329613</td>\n",
              "      <td>sao paulo</td>\n",
              "      <td>SP</td>\n",
              "    </tr>\n",
              "    <tr>\n",
              "      <th>...</th>\n",
              "      <td>...</td>\n",
              "      <td>...</td>\n",
              "      <td>...</td>\n",
              "      <td>...</td>\n",
              "      <td>...</td>\n",
              "    </tr>\n",
              "    <tr>\n",
              "      <th>1000158</th>\n",
              "      <td>99950</td>\n",
              "      <td>-28.06863887662893</td>\n",
              "      <td>-52.01070524698279</td>\n",
              "      <td>tapejara</td>\n",
              "      <td>RS</td>\n",
              "    </tr>\n",
              "    <tr>\n",
              "      <th>1000159</th>\n",
              "      <td>99900</td>\n",
              "      <td>-27.877125117712357</td>\n",
              "      <td>-52.22488216264145</td>\n",
              "      <td>getulio vargas</td>\n",
              "      <td>RS</td>\n",
              "    </tr>\n",
              "    <tr>\n",
              "      <th>1000160</th>\n",
              "      <td>99950</td>\n",
              "      <td>-28.07185541645192</td>\n",
              "      <td>-52.01471586864233</td>\n",
              "      <td>tapejara</td>\n",
              "      <td>RS</td>\n",
              "    </tr>\n",
              "    <tr>\n",
              "      <th>1000161</th>\n",
              "      <td>99980</td>\n",
              "      <td>-28.388931876600495</td>\n",
              "      <td>-51.84687132274168</td>\n",
              "      <td>david canabarro</td>\n",
              "      <td>RS</td>\n",
              "    </tr>\n",
              "    <tr>\n",
              "      <th>1000162</th>\n",
              "      <td>99950</td>\n",
              "      <td>-28.07010363149126</td>\n",
              "      <td>-52.01865772856674</td>\n",
              "      <td>tapejara</td>\n",
              "      <td>RS</td>\n",
              "    </tr>\n",
              "  </tbody>\n",
              "</table>\n",
              "<p>1000163 rows × 5 columns</p>\n",
              "</div>"
            ],
            "text/plain": [
              "        geolocation_zip_code_prefix      geolocation_lat     geolocation_lng  \\\n",
              "0                             01037   -23.54562128115268  -46.63929204800168   \n",
              "1                             01046  -23.546081127035535  -46.64482029837157   \n",
              "2                             01046   -23.54612896641469  -46.64295148361138   \n",
              "3                             01041    -23.5443921648681  -46.63949930627844   \n",
              "4                             01035  -23.541577961711493  -46.64160722329613   \n",
              "...                             ...                  ...                 ...   \n",
              "1000158                       99950   -28.06863887662893  -52.01070524698279   \n",
              "1000159                       99900  -27.877125117712357  -52.22488216264145   \n",
              "1000160                       99950   -28.07185541645192  -52.01471586864233   \n",
              "1000161                       99980  -28.388931876600495  -51.84687132274168   \n",
              "1000162                       99950   -28.07010363149126  -52.01865772856674   \n",
              "\n",
              "        geolocation_city geolocation_state  \n",
              "0              sao paulo                SP  \n",
              "1              sao paulo                SP  \n",
              "2              sao paulo                SP  \n",
              "3              sao paulo                SP  \n",
              "4              sao paulo                SP  \n",
              "...                  ...               ...  \n",
              "1000158         tapejara                RS  \n",
              "1000159   getulio vargas                RS  \n",
              "1000160         tapejara                RS  \n",
              "1000161  david canabarro                RS  \n",
              "1000162         tapejara                RS  \n",
              "\n",
              "[1000163 rows x 5 columns]"
            ]
          },
          "execution_count": 26,
          "metadata": {},
          "output_type": "execute_result"
        }
      ],
      "source": [
        "geolocation"
      ]
    },
    {
      "cell_type": "code",
      "execution_count": 27,
      "metadata": {
        "colab": {
          "base_uri": "https://localhost:8080/"
        },
        "id": "gFc2WA3VCARt",
        "outputId": "2a44f289-0607-46fb-a1af-a3d45b05b75f"
      },
      "outputs": [
        {
          "data": {
            "text/plain": [
              "geolocation_zip_code_prefix  geolocation_lat  geolocation_lng  geolocation_city  geolocation_state\n",
              "False                        False            False            False             False                1000163\n",
              "Name: count, dtype: int64"
            ]
          },
          "execution_count": 27,
          "metadata": {},
          "output_type": "execute_result"
        }
      ],
      "source": [
        "geolocation.isna().value_counts()"
      ]
    },
    {
      "cell_type": "code",
      "execution_count": 28,
      "metadata": {
        "colab": {
          "base_uri": "https://localhost:8080/"
        },
        "id": "hPAaRMi9Cd7r",
        "outputId": "e8bf1f50-09fc-4b44-c0de-68c088c88cdf"
      },
      "outputs": [
        {
          "data": {
            "text/plain": [
              "8011"
            ]
          },
          "execution_count": 28,
          "metadata": {},
          "output_type": "execute_result"
        }
      ],
      "source": [
        "len(geolocation.geolocation_city.unique())"
      ]
    },
    {
      "cell_type": "code",
      "execution_count": 29,
      "metadata": {
        "colab": {
          "base_uri": "https://localhost:8080/"
        },
        "id": "Aqo9hSdPCTnO",
        "outputId": "c28c4d1e-f0e4-4a1b-e083-081923c564fd"
      },
      "outputs": [
        {
          "data": {
            "text/plain": [
              "geolocation_city\n",
              "sao paulo               135800\n",
              "rio de janeiro           62151\n",
              "belo horizonte           27805\n",
              "são paulo                24918\n",
              "curitiba                 16593\n",
              "                         ...  \n",
              "jacuípe                      1\n",
              "mar vermelho                 1\n",
              "quebrangulo                  1\n",
              "poço das trincheiras         1\n",
              "poxim                        1\n",
              "Name: count, Length: 8011, dtype: int64"
            ]
          },
          "execution_count": 29,
          "metadata": {},
          "output_type": "execute_result"
        }
      ],
      "source": [
        "geolocation.geolocation_city.value_counts()"
      ]
    },
    {
      "cell_type": "code",
      "execution_count": 30,
      "metadata": {
        "colab": {
          "base_uri": "https://localhost:8080/"
        },
        "id": "tV3J4gm1DH90",
        "outputId": "13b1e1fb-d313-4f34-f4f8-13fe4a0c427e"
      },
      "outputs": [
        {
          "data": {
            "text/plain": [
              "geolocation_zip_code_prefix\n",
              "24220    1146\n",
              "24230    1102\n",
              "38400     965\n",
              "35500     907\n",
              "11680     879\n",
              "         ... \n",
              "71750       1\n",
              "71742       1\n",
              "26475       1\n",
              "26357       1\n",
              "29826       1\n",
              "Name: count, Length: 19015, dtype: int64"
            ]
          },
          "execution_count": 30,
          "metadata": {},
          "output_type": "execute_result"
        }
      ],
      "source": [
        "geolocation.geolocation_zip_code_prefix.value_counts()"
      ]
    },
    {
      "cell_type": "code",
      "execution_count": 31,
      "metadata": {
        "colab": {
          "base_uri": "https://localhost:8080/"
        },
        "id": "iRQc-T2_GXR1",
        "outputId": "a95c2f10-de75-43bb-bcdd-a9bd43880d21"
      },
      "outputs": [
        {
          "data": {
            "text/plain": [
              "geolocation_lat      geolocation_lng    \n",
              "-27.102098999999946  -48.62961349999995     314\n",
              "-23.495901469908656  -46.87468669635919     190\n",
              "-23.506049208479613  -46.71737739541604     141\n",
              "-23.490617505282753  -46.86900366603934     127\n",
              "-23.00551425914832   -43.37596441256672     102\n",
              "                                           ... \n",
              "-22.46771886866123   -44.0769504183993        1\n",
              "-22.46774061547971   -44.441692315810535      1\n",
              "-22.467757728039338  -48.561537808648865      1\n",
              "-22.4677705400581    -48.989023806571645      1\n",
              "45.06593318269697    9.341527629906514        1\n",
              "Name: count, Length: 718463, dtype: int64"
            ]
          },
          "execution_count": 31,
          "metadata": {},
          "output_type": "execute_result"
        }
      ],
      "source": [
        "geolocation[['geolocation_lat','geolocation_lng']].value_counts()"
      ]
    },
    {
      "cell_type": "markdown",
      "metadata": {
        "id": "RYzM4f1uMAey"
      },
      "source": [
        "### Order items"
      ]
    },
    {
      "cell_type": "code",
      "execution_count": 32,
      "metadata": {
        "colab": {
          "base_uri": "https://localhost:8080/",
          "height": 444
        },
        "id": "xZ6DmR30Jrst",
        "outputId": "6be7a7ce-8f70-41c5-bf5c-7f0527719507"
      },
      "outputs": [
        {
          "data": {
            "text/html": [
              "<div>\n",
              "<style scoped>\n",
              "    .dataframe tbody tr th:only-of-type {\n",
              "        vertical-align: middle;\n",
              "    }\n",
              "\n",
              "    .dataframe tbody tr th {\n",
              "        vertical-align: top;\n",
              "    }\n",
              "\n",
              "    .dataframe thead th {\n",
              "        text-align: right;\n",
              "    }\n",
              "</style>\n",
              "<table border=\"1\" class=\"dataframe\">\n",
              "  <thead>\n",
              "    <tr style=\"text-align: right;\">\n",
              "      <th></th>\n",
              "      <th>order_id</th>\n",
              "      <th>order_item_id</th>\n",
              "      <th>product_id</th>\n",
              "      <th>seller_id</th>\n",
              "      <th>shipping_limit_date</th>\n",
              "      <th>price</th>\n",
              "      <th>freight_value</th>\n",
              "    </tr>\n",
              "  </thead>\n",
              "  <tbody>\n",
              "    <tr>\n",
              "      <th>0</th>\n",
              "      <td>00010242fe8c5a6d1ba2dd792cb16214</td>\n",
              "      <td>1</td>\n",
              "      <td>4244733e06e7ecb4970a6e2683c13e61</td>\n",
              "      <td>48436dade18ac8b2bce089ec2a041202</td>\n",
              "      <td>2017-09-19 09:45:35</td>\n",
              "      <td>58.90</td>\n",
              "      <td>13.29</td>\n",
              "    </tr>\n",
              "    <tr>\n",
              "      <th>1</th>\n",
              "      <td>00018f77f2f0320c557190d7a144bdd3</td>\n",
              "      <td>1</td>\n",
              "      <td>e5f2d52b802189ee658865ca93d83a8f</td>\n",
              "      <td>dd7ddc04e1b6c2c614352b383efe2d36</td>\n",
              "      <td>2017-05-03 11:05:13</td>\n",
              "      <td>239.90</td>\n",
              "      <td>19.93</td>\n",
              "    </tr>\n",
              "    <tr>\n",
              "      <th>2</th>\n",
              "      <td>000229ec398224ef6ca0657da4fc703e</td>\n",
              "      <td>1</td>\n",
              "      <td>c777355d18b72b67abbeef9df44fd0fd</td>\n",
              "      <td>5b51032eddd242adc84c38acab88f23d</td>\n",
              "      <td>2018-01-18 14:48:30</td>\n",
              "      <td>199.00</td>\n",
              "      <td>17.87</td>\n",
              "    </tr>\n",
              "    <tr>\n",
              "      <th>3</th>\n",
              "      <td>00024acbcdf0a6daa1e931b038114c75</td>\n",
              "      <td>1</td>\n",
              "      <td>7634da152a4610f1595efa32f14722fc</td>\n",
              "      <td>9d7a1d34a5052409006425275ba1c2b4</td>\n",
              "      <td>2018-08-15 10:10:18</td>\n",
              "      <td>12.99</td>\n",
              "      <td>12.79</td>\n",
              "    </tr>\n",
              "    <tr>\n",
              "      <th>4</th>\n",
              "      <td>00042b26cf59d7ce69dfabb4e55b4fd9</td>\n",
              "      <td>1</td>\n",
              "      <td>ac6c3623068f30de03045865e4e10089</td>\n",
              "      <td>df560393f3a51e74553ab94004ba5c87</td>\n",
              "      <td>2017-02-13 13:57:51</td>\n",
              "      <td>199.90</td>\n",
              "      <td>18.14</td>\n",
              "    </tr>\n",
              "    <tr>\n",
              "      <th>...</th>\n",
              "      <td>...</td>\n",
              "      <td>...</td>\n",
              "      <td>...</td>\n",
              "      <td>...</td>\n",
              "      <td>...</td>\n",
              "      <td>...</td>\n",
              "      <td>...</td>\n",
              "    </tr>\n",
              "    <tr>\n",
              "      <th>112645</th>\n",
              "      <td>fffc94f6ce00a00581880bf54a75a037</td>\n",
              "      <td>1</td>\n",
              "      <td>4aa6014eceb682077f9dc4bffebc05b0</td>\n",
              "      <td>b8bc237ba3788b23da09c0f1f3a3288c</td>\n",
              "      <td>2018-05-02 04:11:01</td>\n",
              "      <td>299.99</td>\n",
              "      <td>43.41</td>\n",
              "    </tr>\n",
              "    <tr>\n",
              "      <th>112646</th>\n",
              "      <td>fffcd46ef2263f404302a634eb57f7eb</td>\n",
              "      <td>1</td>\n",
              "      <td>32e07fd915822b0765e448c4dd74c828</td>\n",
              "      <td>f3c38ab652836d21de61fb8314b69182</td>\n",
              "      <td>2018-07-20 04:31:48</td>\n",
              "      <td>350.00</td>\n",
              "      <td>36.53</td>\n",
              "    </tr>\n",
              "    <tr>\n",
              "      <th>112647</th>\n",
              "      <td>fffce4705a9662cd70adb13d4a31832d</td>\n",
              "      <td>1</td>\n",
              "      <td>72a30483855e2eafc67aee5dc2560482</td>\n",
              "      <td>c3cfdc648177fdbbbb35635a37472c53</td>\n",
              "      <td>2017-10-30 17:14:25</td>\n",
              "      <td>99.90</td>\n",
              "      <td>16.95</td>\n",
              "    </tr>\n",
              "    <tr>\n",
              "      <th>112648</th>\n",
              "      <td>fffe18544ffabc95dfada21779c9644f</td>\n",
              "      <td>1</td>\n",
              "      <td>9c422a519119dcad7575db5af1ba540e</td>\n",
              "      <td>2b3e4a2a3ea8e01938cabda2a3e5cc79</td>\n",
              "      <td>2017-08-21 00:04:32</td>\n",
              "      <td>55.99</td>\n",
              "      <td>8.72</td>\n",
              "    </tr>\n",
              "    <tr>\n",
              "      <th>112649</th>\n",
              "      <td>fffe41c64501cc87c801fd61db3f6244</td>\n",
              "      <td>1</td>\n",
              "      <td>350688d9dc1e75ff97be326363655e01</td>\n",
              "      <td>f7ccf836d21b2fb1de37564105216cc1</td>\n",
              "      <td>2018-06-12 17:10:13</td>\n",
              "      <td>43.00</td>\n",
              "      <td>12.79</td>\n",
              "    </tr>\n",
              "  </tbody>\n",
              "</table>\n",
              "<p>112650 rows × 7 columns</p>\n",
              "</div>"
            ],
            "text/plain": [
              "                                order_id order_item_id  \\\n",
              "0       00010242fe8c5a6d1ba2dd792cb16214             1   \n",
              "1       00018f77f2f0320c557190d7a144bdd3             1   \n",
              "2       000229ec398224ef6ca0657da4fc703e             1   \n",
              "3       00024acbcdf0a6daa1e931b038114c75             1   \n",
              "4       00042b26cf59d7ce69dfabb4e55b4fd9             1   \n",
              "...                                  ...           ...   \n",
              "112645  fffc94f6ce00a00581880bf54a75a037             1   \n",
              "112646  fffcd46ef2263f404302a634eb57f7eb             1   \n",
              "112647  fffce4705a9662cd70adb13d4a31832d             1   \n",
              "112648  fffe18544ffabc95dfada21779c9644f             1   \n",
              "112649  fffe41c64501cc87c801fd61db3f6244             1   \n",
              "\n",
              "                              product_id                         seller_id  \\\n",
              "0       4244733e06e7ecb4970a6e2683c13e61  48436dade18ac8b2bce089ec2a041202   \n",
              "1       e5f2d52b802189ee658865ca93d83a8f  dd7ddc04e1b6c2c614352b383efe2d36   \n",
              "2       c777355d18b72b67abbeef9df44fd0fd  5b51032eddd242adc84c38acab88f23d   \n",
              "3       7634da152a4610f1595efa32f14722fc  9d7a1d34a5052409006425275ba1c2b4   \n",
              "4       ac6c3623068f30de03045865e4e10089  df560393f3a51e74553ab94004ba5c87   \n",
              "...                                  ...                               ...   \n",
              "112645  4aa6014eceb682077f9dc4bffebc05b0  b8bc237ba3788b23da09c0f1f3a3288c   \n",
              "112646  32e07fd915822b0765e448c4dd74c828  f3c38ab652836d21de61fb8314b69182   \n",
              "112647  72a30483855e2eafc67aee5dc2560482  c3cfdc648177fdbbbb35635a37472c53   \n",
              "112648  9c422a519119dcad7575db5af1ba540e  2b3e4a2a3ea8e01938cabda2a3e5cc79   \n",
              "112649  350688d9dc1e75ff97be326363655e01  f7ccf836d21b2fb1de37564105216cc1   \n",
              "\n",
              "        shipping_limit_date   price freight_value  \n",
              "0       2017-09-19 09:45:35   58.90         13.29  \n",
              "1       2017-05-03 11:05:13  239.90         19.93  \n",
              "2       2018-01-18 14:48:30  199.00         17.87  \n",
              "3       2018-08-15 10:10:18   12.99         12.79  \n",
              "4       2017-02-13 13:57:51  199.90         18.14  \n",
              "...                     ...     ...           ...  \n",
              "112645  2018-05-02 04:11:01  299.99         43.41  \n",
              "112646  2018-07-20 04:31:48  350.00         36.53  \n",
              "112647  2017-10-30 17:14:25   99.90         16.95  \n",
              "112648  2017-08-21 00:04:32   55.99          8.72  \n",
              "112649  2018-06-12 17:10:13   43.00         12.79  \n",
              "\n",
              "[112650 rows x 7 columns]"
            ]
          },
          "execution_count": 32,
          "metadata": {},
          "output_type": "execute_result"
        }
      ],
      "source": [
        "order_items"
      ]
    },
    {
      "cell_type": "code",
      "execution_count": 33,
      "metadata": {
        "colab": {
          "base_uri": "https://localhost:8080/"
        },
        "id": "Otcw3VYug5C2",
        "outputId": "904dfe9e-0efe-4b83-8145-c66a51520ab6"
      },
      "outputs": [
        {
          "data": {
            "text/plain": [
              "order_id\n",
              "8272b63d03f5f79c56e9e4120aec44ef    21\n",
              "1b15974a0141d54e36626dca3fdc731a    20\n",
              "ab14fdcfbe524636d65ee38360e22ce8    20\n",
              "9ef13efd6949e4573a18964dd1bbe7f5    15\n",
              "428a2f660dc84138d969ccd69a0ab6d5    15\n",
              "                                    ..\n",
              "5a0911d70c1f85d3bed0df1bf693a6dd     1\n",
              "5a082b558a3798d3e36d93bfa8ca1eae     1\n",
              "5a07264682e0b8fbb3f166edbbffc6e8     1\n",
              "5a071192a28951b76774e5a760c8c9b7     1\n",
              "fffe41c64501cc87c801fd61db3f6244     1\n",
              "Name: count, Length: 98666, dtype: int64"
            ]
          },
          "execution_count": 33,
          "metadata": {},
          "output_type": "execute_result"
        }
      ],
      "source": [
        "order_items.order_id.value_counts()"
      ]
    },
    {
      "cell_type": "code",
      "execution_count": 34,
      "metadata": {
        "colab": {
          "base_uri": "https://localhost:8080/"
        },
        "id": "1wkdq75LhBHA",
        "outputId": "a89bd360-9e24-469d-8a18-59972cd504a5"
      },
      "outputs": [
        {
          "data": {
            "text/plain": [
              "order_id  order_item_id  product_id  seller_id  shipping_limit_date  price  freight_value\n",
              "False     False          False       False      False                False  False            112650\n",
              "Name: count, dtype: int64"
            ]
          },
          "execution_count": 34,
          "metadata": {},
          "output_type": "execute_result"
        }
      ],
      "source": [
        "order_items.isna().value_counts()"
      ]
    },
    {
      "cell_type": "markdown",
      "metadata": {
        "id": "Wksaw1JfMCiE"
      },
      "source": [
        "### Order payments"
      ]
    },
    {
      "cell_type": "code",
      "execution_count": 35,
      "metadata": {
        "colab": {
          "base_uri": "https://localhost:8080/",
          "height": 424
        },
        "id": "CjP4Hz3LJ6tW",
        "outputId": "88395940-a94a-40b1-831f-3f1dd30d488a"
      },
      "outputs": [
        {
          "data": {
            "text/html": [
              "<div>\n",
              "<style scoped>\n",
              "    .dataframe tbody tr th:only-of-type {\n",
              "        vertical-align: middle;\n",
              "    }\n",
              "\n",
              "    .dataframe tbody tr th {\n",
              "        vertical-align: top;\n",
              "    }\n",
              "\n",
              "    .dataframe thead th {\n",
              "        text-align: right;\n",
              "    }\n",
              "</style>\n",
              "<table border=\"1\" class=\"dataframe\">\n",
              "  <thead>\n",
              "    <tr style=\"text-align: right;\">\n",
              "      <th></th>\n",
              "      <th>order_id</th>\n",
              "      <th>payment_sequential</th>\n",
              "      <th>payment_type</th>\n",
              "      <th>payment_installments</th>\n",
              "      <th>payment_value</th>\n",
              "    </tr>\n",
              "  </thead>\n",
              "  <tbody>\n",
              "    <tr>\n",
              "      <th>0</th>\n",
              "      <td>b81ef226f3fe1789b1e8b2acac839d17</td>\n",
              "      <td>1</td>\n",
              "      <td>credit_card</td>\n",
              "      <td>8</td>\n",
              "      <td>99.33</td>\n",
              "    </tr>\n",
              "    <tr>\n",
              "      <th>1</th>\n",
              "      <td>a9810da82917af2d9aefd1278f1dcfa0</td>\n",
              "      <td>1</td>\n",
              "      <td>credit_card</td>\n",
              "      <td>1</td>\n",
              "      <td>24.39</td>\n",
              "    </tr>\n",
              "    <tr>\n",
              "      <th>2</th>\n",
              "      <td>25e8ea4e93396b6fa0d3dd708e76c1bd</td>\n",
              "      <td>1</td>\n",
              "      <td>credit_card</td>\n",
              "      <td>1</td>\n",
              "      <td>65.71</td>\n",
              "    </tr>\n",
              "    <tr>\n",
              "      <th>3</th>\n",
              "      <td>ba78997921bbcdc1373bb41e913ab953</td>\n",
              "      <td>1</td>\n",
              "      <td>credit_card</td>\n",
              "      <td>8</td>\n",
              "      <td>107.78</td>\n",
              "    </tr>\n",
              "    <tr>\n",
              "      <th>4</th>\n",
              "      <td>42fdf880ba16b47b59251dd489d4441a</td>\n",
              "      <td>1</td>\n",
              "      <td>credit_card</td>\n",
              "      <td>2</td>\n",
              "      <td>128.45</td>\n",
              "    </tr>\n",
              "    <tr>\n",
              "      <th>...</th>\n",
              "      <td>...</td>\n",
              "      <td>...</td>\n",
              "      <td>...</td>\n",
              "      <td>...</td>\n",
              "      <td>...</td>\n",
              "    </tr>\n",
              "    <tr>\n",
              "      <th>103881</th>\n",
              "      <td>0406037ad97740d563a178ecc7a2075c</td>\n",
              "      <td>1</td>\n",
              "      <td>boleto</td>\n",
              "      <td>1</td>\n",
              "      <td>363.31</td>\n",
              "    </tr>\n",
              "    <tr>\n",
              "      <th>103882</th>\n",
              "      <td>7b905861d7c825891d6347454ea7863f</td>\n",
              "      <td>1</td>\n",
              "      <td>credit_card</td>\n",
              "      <td>2</td>\n",
              "      <td>96.80</td>\n",
              "    </tr>\n",
              "    <tr>\n",
              "      <th>103883</th>\n",
              "      <td>32609bbb3dd69b3c066a6860554a77bf</td>\n",
              "      <td>1</td>\n",
              "      <td>credit_card</td>\n",
              "      <td>1</td>\n",
              "      <td>47.77</td>\n",
              "    </tr>\n",
              "    <tr>\n",
              "      <th>103884</th>\n",
              "      <td>b8b61059626efa996a60be9bb9320e10</td>\n",
              "      <td>1</td>\n",
              "      <td>credit_card</td>\n",
              "      <td>5</td>\n",
              "      <td>369.54</td>\n",
              "    </tr>\n",
              "    <tr>\n",
              "      <th>103885</th>\n",
              "      <td>28bbae6599b09d39ca406b747b6632b1</td>\n",
              "      <td>1</td>\n",
              "      <td>boleto</td>\n",
              "      <td>1</td>\n",
              "      <td>191.58</td>\n",
              "    </tr>\n",
              "  </tbody>\n",
              "</table>\n",
              "<p>103886 rows × 5 columns</p>\n",
              "</div>"
            ],
            "text/plain": [
              "                                order_id payment_sequential payment_type  \\\n",
              "0       b81ef226f3fe1789b1e8b2acac839d17                  1  credit_card   \n",
              "1       a9810da82917af2d9aefd1278f1dcfa0                  1  credit_card   \n",
              "2       25e8ea4e93396b6fa0d3dd708e76c1bd                  1  credit_card   \n",
              "3       ba78997921bbcdc1373bb41e913ab953                  1  credit_card   \n",
              "4       42fdf880ba16b47b59251dd489d4441a                  1  credit_card   \n",
              "...                                  ...                ...          ...   \n",
              "103881  0406037ad97740d563a178ecc7a2075c                  1       boleto   \n",
              "103882  7b905861d7c825891d6347454ea7863f                  1  credit_card   \n",
              "103883  32609bbb3dd69b3c066a6860554a77bf                  1  credit_card   \n",
              "103884  b8b61059626efa996a60be9bb9320e10                  1  credit_card   \n",
              "103885  28bbae6599b09d39ca406b747b6632b1                  1       boleto   \n",
              "\n",
              "       payment_installments payment_value  \n",
              "0                         8         99.33  \n",
              "1                         1         24.39  \n",
              "2                         1         65.71  \n",
              "3                         8        107.78  \n",
              "4                         2        128.45  \n",
              "...                     ...           ...  \n",
              "103881                    1        363.31  \n",
              "103882                    2         96.80  \n",
              "103883                    1         47.77  \n",
              "103884                    5        369.54  \n",
              "103885                    1        191.58  \n",
              "\n",
              "[103886 rows x 5 columns]"
            ]
          },
          "execution_count": 35,
          "metadata": {},
          "output_type": "execute_result"
        }
      ],
      "source": [
        "order_payments"
      ]
    },
    {
      "cell_type": "code",
      "execution_count": 36,
      "metadata": {
        "colab": {
          "base_uri": "https://localhost:8080/"
        },
        "id": "uQDGm1hFnh1G",
        "outputId": "5e1ec1fb-245d-4040-bc1e-6bfbd3e43818"
      },
      "outputs": [
        {
          "data": {
            "text/plain": [
              "order_id  payment_sequential  payment_type  payment_installments  payment_value\n",
              "False     False               False         False                 False            103886\n",
              "Name: count, dtype: int64"
            ]
          },
          "execution_count": 36,
          "metadata": {},
          "output_type": "execute_result"
        }
      ],
      "source": [
        "order_payments.isna().value_counts()"
      ]
    },
    {
      "cell_type": "code",
      "execution_count": 37,
      "metadata": {
        "colab": {
          "base_uri": "https://localhost:8080/"
        },
        "id": "0HLHkU5OnhxH",
        "outputId": "892a3b6d-ac21-48e7-940d-3fca61f0bc4d"
      },
      "outputs": [
        {
          "data": {
            "text/plain": [
              "order_id\n",
              "fa65dad1b0e818e3ccc5cb0e39231352    29\n",
              "ccf804e764ed5650cd8759557269dc13    26\n",
              "285c2e15bebd4ac83635ccc563dc71f4    22\n",
              "895ab968e7bb0d5659d16cd74cd1650c    21\n",
              "fedcd9f7ccdc8cba3a18defedd1a5547    19\n",
              "                                    ..\n",
              "6d2a30c9b7dcee3ed507dc9a601f99e7     1\n",
              "a7737f6d9208dd56ea498a322ed3c37f     1\n",
              "646e62df54f3e236eb6d5ff3b31429b8     1\n",
              "e115da7a49ec2acf622e1f31da65cfb9     1\n",
              "28bbae6599b09d39ca406b747b6632b1     1\n",
              "Name: count, Length: 99440, dtype: int64"
            ]
          },
          "execution_count": 37,
          "metadata": {},
          "output_type": "execute_result"
        }
      ],
      "source": [
        "order_payments.order_id.value_counts()"
      ]
    },
    {
      "cell_type": "code",
      "execution_count": 38,
      "metadata": {
        "colab": {
          "base_uri": "https://localhost:8080/"
        },
        "id": "AEBEsyScnhk8",
        "outputId": "7fbcfaec-879c-4d20-8d19-ed4a1a5a4b3f"
      },
      "outputs": [
        {
          "data": {
            "text/plain": [
              "payment_type\n",
              "credit_card    76795\n",
              "boleto         19784\n",
              "voucher         5775\n",
              "debit_card      1529\n",
              "not_defined        3\n",
              "Name: count, dtype: int64"
            ]
          },
          "execution_count": 38,
          "metadata": {},
          "output_type": "execute_result"
        }
      ],
      "source": [
        "order_payments.payment_type.value_counts()"
      ]
    },
    {
      "cell_type": "code",
      "execution_count": 39,
      "metadata": {
        "colab": {
          "base_uri": "https://localhost:8080/"
        },
        "id": "hafIc9-Bqwyb",
        "outputId": "4e7b1abd-cbab-4f21-e830-6d4d305cded2"
      },
      "outputs": [
        {
          "data": {
            "text/plain": [
              "payment_installments\n",
              "1     52546\n",
              "2     12413\n",
              "3     10461\n",
              "4      7098\n",
              "10     5328\n",
              "5      5239\n",
              "8      4268\n",
              "6      3920\n",
              "7      1626\n",
              "9       644\n",
              "12      133\n",
              "15       74\n",
              "18       27\n",
              "11       23\n",
              "24       18\n",
              "20       17\n",
              "13       16\n",
              "14       15\n",
              "17        8\n",
              "16        5\n",
              "21        3\n",
              "0         2\n",
              "22        1\n",
              "23        1\n",
              "Name: count, dtype: int64"
            ]
          },
          "execution_count": 39,
          "metadata": {},
          "output_type": "execute_result"
        }
      ],
      "source": [
        "order_payments.payment_installments.value_counts()"
      ]
    },
    {
      "cell_type": "markdown",
      "metadata": {
        "id": "pwWeLAPlMEb6"
      },
      "source": [
        "### Order reviews"
      ]
    },
    {
      "cell_type": "code",
      "execution_count": 40,
      "metadata": {
        "colab": {
          "base_uri": "https://localhost:8080/",
          "height": 513
        },
        "id": "MST6bELxKA0M",
        "outputId": "c6f2cc43-187c-4ca0-ce0a-cfda0042861f"
      },
      "outputs": [
        {
          "data": {
            "text/html": [
              "<div>\n",
              "<style scoped>\n",
              "    .dataframe tbody tr th:only-of-type {\n",
              "        vertical-align: middle;\n",
              "    }\n",
              "\n",
              "    .dataframe tbody tr th {\n",
              "        vertical-align: top;\n",
              "    }\n",
              "\n",
              "    .dataframe thead th {\n",
              "        text-align: right;\n",
              "    }\n",
              "</style>\n",
              "<table border=\"1\" class=\"dataframe\">\n",
              "  <thead>\n",
              "    <tr style=\"text-align: right;\">\n",
              "      <th></th>\n",
              "      <th>review_id</th>\n",
              "      <th>order_id</th>\n",
              "      <th>review_score</th>\n",
              "      <th>review_comment_title</th>\n",
              "      <th>review_comment_message</th>\n",
              "      <th>review_creation_date</th>\n",
              "      <th>review_answer_timestamp</th>\n",
              "    </tr>\n",
              "  </thead>\n",
              "  <tbody>\n",
              "    <tr>\n",
              "      <th>0</th>\n",
              "      <td>7bc2406110b926393aa56f80a40eba40</td>\n",
              "      <td>73fc7af87114b39712e6da79b0a377eb</td>\n",
              "      <td>4</td>\n",
              "      <td>NaN</td>\n",
              "      <td>NaN</td>\n",
              "      <td>2018-01-18 00:00:00</td>\n",
              "      <td>2018-01-18 21:46:59</td>\n",
              "    </tr>\n",
              "    <tr>\n",
              "      <th>1</th>\n",
              "      <td>80e641a11e56f04c1ad469d5645fdfde</td>\n",
              "      <td>a548910a1c6147796b98fdf73dbeba33</td>\n",
              "      <td>5</td>\n",
              "      <td>NaN</td>\n",
              "      <td>NaN</td>\n",
              "      <td>2018-03-10 00:00:00</td>\n",
              "      <td>2018-03-11 03:05:13</td>\n",
              "    </tr>\n",
              "    <tr>\n",
              "      <th>2</th>\n",
              "      <td>228ce5500dc1d8e020d8d1322874b6f0</td>\n",
              "      <td>f9e4b658b201a9f2ecdecbb34bed034b</td>\n",
              "      <td>5</td>\n",
              "      <td>NaN</td>\n",
              "      <td>NaN</td>\n",
              "      <td>2018-02-17 00:00:00</td>\n",
              "      <td>2018-02-18 14:36:24</td>\n",
              "    </tr>\n",
              "    <tr>\n",
              "      <th>3</th>\n",
              "      <td>e64fb393e7b32834bb789ff8bb30750e</td>\n",
              "      <td>658677c97b385a9be170737859d3511b</td>\n",
              "      <td>5</td>\n",
              "      <td>NaN</td>\n",
              "      <td>Recebi bem antes do prazo estipulado.</td>\n",
              "      <td>2017-04-21 00:00:00</td>\n",
              "      <td>2017-04-21 22:02:06</td>\n",
              "    </tr>\n",
              "    <tr>\n",
              "      <th>4</th>\n",
              "      <td>f7c4243c7fe1938f181bec41a392bdeb</td>\n",
              "      <td>8e6bfb81e283fa7e4f11123a3fb894f1</td>\n",
              "      <td>5</td>\n",
              "      <td>NaN</td>\n",
              "      <td>Parabéns lojas lannister adorei comprar pela I...</td>\n",
              "      <td>2018-03-01 00:00:00</td>\n",
              "      <td>2018-03-02 10:26:53</td>\n",
              "    </tr>\n",
              "    <tr>\n",
              "      <th>...</th>\n",
              "      <td>...</td>\n",
              "      <td>...</td>\n",
              "      <td>...</td>\n",
              "      <td>...</td>\n",
              "      <td>...</td>\n",
              "      <td>...</td>\n",
              "      <td>...</td>\n",
              "    </tr>\n",
              "    <tr>\n",
              "      <th>99219</th>\n",
              "      <td>574ed12dd733e5fa530cfd4bbf39d7c9</td>\n",
              "      <td>2a8c23fee101d4d5662fa670396eb8da</td>\n",
              "      <td>5</td>\n",
              "      <td>NaN</td>\n",
              "      <td>NaN</td>\n",
              "      <td>2018-07-07 00:00:00</td>\n",
              "      <td>2018-07-14 17:18:30</td>\n",
              "    </tr>\n",
              "    <tr>\n",
              "      <th>99220</th>\n",
              "      <td>f3897127253a9592a73be9bdfdf4ed7a</td>\n",
              "      <td>22ec9f0669f784db00fa86d035cf8602</td>\n",
              "      <td>5</td>\n",
              "      <td>NaN</td>\n",
              "      <td>NaN</td>\n",
              "      <td>2017-12-09 00:00:00</td>\n",
              "      <td>2017-12-11 20:06:42</td>\n",
              "    </tr>\n",
              "    <tr>\n",
              "      <th>99221</th>\n",
              "      <td>b3de70c89b1510c4cd3d0649fd302472</td>\n",
              "      <td>55d4004744368f5571d1f590031933e4</td>\n",
              "      <td>5</td>\n",
              "      <td>NaN</td>\n",
              "      <td>Excelente mochila, entrega super rápida. Super...</td>\n",
              "      <td>2018-03-22 00:00:00</td>\n",
              "      <td>2018-03-23 09:10:43</td>\n",
              "    </tr>\n",
              "    <tr>\n",
              "      <th>99222</th>\n",
              "      <td>1adeb9d84d72fe4e337617733eb85149</td>\n",
              "      <td>7725825d039fc1f0ceb7635e3f7d9206</td>\n",
              "      <td>4</td>\n",
              "      <td>NaN</td>\n",
              "      <td>NaN</td>\n",
              "      <td>2018-07-01 00:00:00</td>\n",
              "      <td>2018-07-02 12:59:13</td>\n",
              "    </tr>\n",
              "    <tr>\n",
              "      <th>99223</th>\n",
              "      <td>efe49f1d6f951dd88b51e6ccd4cc548f</td>\n",
              "      <td>90531360ecb1eec2a1fbb265a0db0508</td>\n",
              "      <td>1</td>\n",
              "      <td>NaN</td>\n",
              "      <td>meu produto chegou e ja tenho que devolver, po...</td>\n",
              "      <td>2017-07-03 00:00:00</td>\n",
              "      <td>2017-07-03 21:01:49</td>\n",
              "    </tr>\n",
              "  </tbody>\n",
              "</table>\n",
              "<p>99224 rows × 7 columns</p>\n",
              "</div>"
            ],
            "text/plain": [
              "                              review_id                          order_id  \\\n",
              "0      7bc2406110b926393aa56f80a40eba40  73fc7af87114b39712e6da79b0a377eb   \n",
              "1      80e641a11e56f04c1ad469d5645fdfde  a548910a1c6147796b98fdf73dbeba33   \n",
              "2      228ce5500dc1d8e020d8d1322874b6f0  f9e4b658b201a9f2ecdecbb34bed034b   \n",
              "3      e64fb393e7b32834bb789ff8bb30750e  658677c97b385a9be170737859d3511b   \n",
              "4      f7c4243c7fe1938f181bec41a392bdeb  8e6bfb81e283fa7e4f11123a3fb894f1   \n",
              "...                                 ...                               ...   \n",
              "99219  574ed12dd733e5fa530cfd4bbf39d7c9  2a8c23fee101d4d5662fa670396eb8da   \n",
              "99220  f3897127253a9592a73be9bdfdf4ed7a  22ec9f0669f784db00fa86d035cf8602   \n",
              "99221  b3de70c89b1510c4cd3d0649fd302472  55d4004744368f5571d1f590031933e4   \n",
              "99222  1adeb9d84d72fe4e337617733eb85149  7725825d039fc1f0ceb7635e3f7d9206   \n",
              "99223  efe49f1d6f951dd88b51e6ccd4cc548f  90531360ecb1eec2a1fbb265a0db0508   \n",
              "\n",
              "      review_score review_comment_title  \\\n",
              "0                4                  NaN   \n",
              "1                5                  NaN   \n",
              "2                5                  NaN   \n",
              "3                5                  NaN   \n",
              "4                5                  NaN   \n",
              "...            ...                  ...   \n",
              "99219            5                  NaN   \n",
              "99220            5                  NaN   \n",
              "99221            5                  NaN   \n",
              "99222            4                  NaN   \n",
              "99223            1                  NaN   \n",
              "\n",
              "                                  review_comment_message review_creation_date  \\\n",
              "0                                                    NaN  2018-01-18 00:00:00   \n",
              "1                                                    NaN  2018-03-10 00:00:00   \n",
              "2                                                    NaN  2018-02-17 00:00:00   \n",
              "3                  Recebi bem antes do prazo estipulado.  2017-04-21 00:00:00   \n",
              "4      Parabéns lojas lannister adorei comprar pela I...  2018-03-01 00:00:00   \n",
              "...                                                  ...                  ...   \n",
              "99219                                                NaN  2018-07-07 00:00:00   \n",
              "99220                                                NaN  2017-12-09 00:00:00   \n",
              "99221  Excelente mochila, entrega super rápida. Super...  2018-03-22 00:00:00   \n",
              "99222                                                NaN  2018-07-01 00:00:00   \n",
              "99223  meu produto chegou e ja tenho que devolver, po...  2017-07-03 00:00:00   \n",
              "\n",
              "      review_answer_timestamp  \n",
              "0         2018-01-18 21:46:59  \n",
              "1         2018-03-11 03:05:13  \n",
              "2         2018-02-18 14:36:24  \n",
              "3         2017-04-21 22:02:06  \n",
              "4         2018-03-02 10:26:53  \n",
              "...                       ...  \n",
              "99219     2018-07-14 17:18:30  \n",
              "99220     2017-12-11 20:06:42  \n",
              "99221     2018-03-23 09:10:43  \n",
              "99222     2018-07-02 12:59:13  \n",
              "99223     2017-07-03 21:01:49  \n",
              "\n",
              "[99224 rows x 7 columns]"
            ]
          },
          "execution_count": 40,
          "metadata": {},
          "output_type": "execute_result"
        }
      ],
      "source": [
        "order_reviews"
      ]
    },
    {
      "cell_type": "code",
      "execution_count": 41,
      "metadata": {
        "colab": {
          "base_uri": "https://localhost:8080/"
        },
        "id": "R4XvYHxYrDII",
        "outputId": "51c10474-341b-4004-966d-9ef49f67bee8"
      },
      "outputs": [
        {
          "data": {
            "text/plain": [
              "review_id  order_id  review_score  review_comment_title  review_comment_message  review_creation_date  review_answer_timestamp\n",
              "False      False     False         True                  True                    False                 False                      56518\n",
              "                                                         False                   False                 False                      31138\n",
              "                                   False                 False                   False                 False                       9839\n",
              "                                                         True                    False                 False                       1729\n",
              "Name: count, dtype: int64"
            ]
          },
          "execution_count": 41,
          "metadata": {},
          "output_type": "execute_result"
        }
      ],
      "source": [
        "order_reviews.isna().value_counts()"
      ]
    },
    {
      "cell_type": "code",
      "execution_count": 42,
      "metadata": {
        "colab": {
          "base_uri": "https://localhost:8080/"
        },
        "id": "pq1vEeQSq3mD",
        "outputId": "b975be91-d8fc-4df9-c464-915d24b1426e"
      },
      "outputs": [
        {
          "data": {
            "text/plain": [
              "review_id\n",
              "7b606b0d57b078384f0b58eac1d41d78    3\n",
              "dbdf1ea31790c8ecfcc6750525661a9b    3\n",
              "32415bbf6e341d5d517080a796f79b5c    3\n",
              "0c76e7a547a531e7bf9f0b99cba071c1    3\n",
              "4219a80ab469e3fc9901437b73da3f75    3\n",
              "                                   ..\n",
              "95e01591b0e69a2fab382b0c562d4e20    1\n",
              "93611e0327d6a1769d1e68cf3caa242d    1\n",
              "983c47de74278257f99c4b918fd380f1    1\n",
              "ca475b77fcc618551ef9d516c3f61b88    1\n",
              "efe49f1d6f951dd88b51e6ccd4cc548f    1\n",
              "Name: count, Length: 98410, dtype: int64"
            ]
          },
          "execution_count": 42,
          "metadata": {},
          "output_type": "execute_result"
        }
      ],
      "source": [
        "order_reviews.review_id.value_counts()"
      ]
    },
    {
      "cell_type": "code",
      "execution_count": 43,
      "metadata": {
        "colab": {
          "base_uri": "https://localhost:8080/"
        },
        "id": "g-d-Ndpwq8EW",
        "outputId": "cfbeae3a-e7be-4014-c650-85010c0e9cce"
      },
      "outputs": [
        {
          "data": {
            "text/plain": [
              "order_id\n",
              "c88b1d1b157a9999ce368f218a407141    3\n",
              "8e17072ec97ce29f0e1f111e598b0c85    3\n",
              "df56136b8031ecd28e200bb18e6ddb2e    3\n",
              "03c939fd7fd3b38f8485a0f95798f1f6    3\n",
              "5cb890a68b91b6158d69257e4e2bc359    2\n",
              "                                   ..\n",
              "5b4e9a12d219f34f5c2de9f8d620b19d    1\n",
              "a6da096d974acc000962856d7386448a    1\n",
              "75e0647c26de647eca3421e9cc66c9da    1\n",
              "bad0467c52f23cdc71e9fa139d4a8afd    1\n",
              "90531360ecb1eec2a1fbb265a0db0508    1\n",
              "Name: count, Length: 98673, dtype: int64"
            ]
          },
          "execution_count": 43,
          "metadata": {},
          "output_type": "execute_result"
        }
      ],
      "source": [
        "order_reviews.order_id.value_counts()"
      ]
    },
    {
      "cell_type": "code",
      "execution_count": 44,
      "metadata": {
        "colab": {
          "base_uri": "https://localhost:8080/"
        },
        "id": "oLfPRloCrAdE",
        "outputId": "9efb9ebb-c032-4d9e-92d3-66696dd50fb7"
      },
      "outputs": [
        {
          "data": {
            "text/plain": [
              "review_score\n",
              "5    57328\n",
              "4    19142\n",
              "1    11424\n",
              "3     8179\n",
              "2     3151\n",
              "Name: count, dtype: int64"
            ]
          },
          "execution_count": 44,
          "metadata": {},
          "output_type": "execute_result"
        }
      ],
      "source": [
        "order_reviews.review_score.value_counts()"
      ]
    },
    {
      "cell_type": "markdown",
      "metadata": {
        "id": "h7XrR0oMMGNo"
      },
      "source": [
        "### Orders"
      ]
    },
    {
      "cell_type": "code",
      "execution_count": 45,
      "metadata": {
        "colab": {
          "base_uri": "https://localhost:8080/",
          "height": 444
        },
        "id": "NRRybB8hKGhc",
        "outputId": "552a6062-a3f5-4d66-faab-e160d7bcaa92"
      },
      "outputs": [
        {
          "data": {
            "text/html": [
              "<div>\n",
              "<style scoped>\n",
              "    .dataframe tbody tr th:only-of-type {\n",
              "        vertical-align: middle;\n",
              "    }\n",
              "\n",
              "    .dataframe tbody tr th {\n",
              "        vertical-align: top;\n",
              "    }\n",
              "\n",
              "    .dataframe thead th {\n",
              "        text-align: right;\n",
              "    }\n",
              "</style>\n",
              "<table border=\"1\" class=\"dataframe\">\n",
              "  <thead>\n",
              "    <tr style=\"text-align: right;\">\n",
              "      <th></th>\n",
              "      <th>order_id</th>\n",
              "      <th>customer_id</th>\n",
              "      <th>order_status</th>\n",
              "      <th>order_purchase_timestamp</th>\n",
              "      <th>order_approved_at</th>\n",
              "      <th>order_delivered_carrier_date</th>\n",
              "      <th>order_delivered_customer_date</th>\n",
              "      <th>order_estimated_delivery_date</th>\n",
              "    </tr>\n",
              "  </thead>\n",
              "  <tbody>\n",
              "    <tr>\n",
              "      <th>0</th>\n",
              "      <td>e481f51cbdc54678b7cc49136f2d6af7</td>\n",
              "      <td>9ef432eb6251297304e76186b10a928d</td>\n",
              "      <td>delivered</td>\n",
              "      <td>2017-10-02 10:56:33</td>\n",
              "      <td>2017-10-02 11:07:15</td>\n",
              "      <td>2017-10-04 19:55:00</td>\n",
              "      <td>2017-10-10 21:25:13</td>\n",
              "      <td>2017-10-18 00:00:00</td>\n",
              "    </tr>\n",
              "    <tr>\n",
              "      <th>1</th>\n",
              "      <td>53cdb2fc8bc7dce0b6741e2150273451</td>\n",
              "      <td>b0830fb4747a6c6d20dea0b8c802d7ef</td>\n",
              "      <td>delivered</td>\n",
              "      <td>2018-07-24 20:41:37</td>\n",
              "      <td>2018-07-26 03:24:27</td>\n",
              "      <td>2018-07-26 14:31:00</td>\n",
              "      <td>2018-08-07 15:27:45</td>\n",
              "      <td>2018-08-13 00:00:00</td>\n",
              "    </tr>\n",
              "    <tr>\n",
              "      <th>2</th>\n",
              "      <td>47770eb9100c2d0c44946d9cf07ec65d</td>\n",
              "      <td>41ce2a54c0b03bf3443c3d931a367089</td>\n",
              "      <td>delivered</td>\n",
              "      <td>2018-08-08 08:38:49</td>\n",
              "      <td>2018-08-08 08:55:23</td>\n",
              "      <td>2018-08-08 13:50:00</td>\n",
              "      <td>2018-08-17 18:06:29</td>\n",
              "      <td>2018-09-04 00:00:00</td>\n",
              "    </tr>\n",
              "    <tr>\n",
              "      <th>3</th>\n",
              "      <td>949d5b44dbf5de918fe9c16f97b45f8a</td>\n",
              "      <td>f88197465ea7920adcdbec7375364d82</td>\n",
              "      <td>delivered</td>\n",
              "      <td>2017-11-18 19:28:06</td>\n",
              "      <td>2017-11-18 19:45:59</td>\n",
              "      <td>2017-11-22 13:39:59</td>\n",
              "      <td>2017-12-02 00:28:42</td>\n",
              "      <td>2017-12-15 00:00:00</td>\n",
              "    </tr>\n",
              "    <tr>\n",
              "      <th>4</th>\n",
              "      <td>ad21c59c0840e6cb83a9ceb5573f8159</td>\n",
              "      <td>8ab97904e6daea8866dbdbc4fb7aad2c</td>\n",
              "      <td>delivered</td>\n",
              "      <td>2018-02-13 21:18:39</td>\n",
              "      <td>2018-02-13 22:20:29</td>\n",
              "      <td>2018-02-14 19:46:34</td>\n",
              "      <td>2018-02-16 18:17:02</td>\n",
              "      <td>2018-02-26 00:00:00</td>\n",
              "    </tr>\n",
              "    <tr>\n",
              "      <th>...</th>\n",
              "      <td>...</td>\n",
              "      <td>...</td>\n",
              "      <td>...</td>\n",
              "      <td>...</td>\n",
              "      <td>...</td>\n",
              "      <td>...</td>\n",
              "      <td>...</td>\n",
              "      <td>...</td>\n",
              "    </tr>\n",
              "    <tr>\n",
              "      <th>99436</th>\n",
              "      <td>9c5dedf39a927c1b2549525ed64a053c</td>\n",
              "      <td>39bd1228ee8140590ac3aca26f2dfe00</td>\n",
              "      <td>delivered</td>\n",
              "      <td>2017-03-09 09:54:05</td>\n",
              "      <td>2017-03-09 09:54:05</td>\n",
              "      <td>2017-03-10 11:18:03</td>\n",
              "      <td>2017-03-17 15:08:01</td>\n",
              "      <td>2017-03-28 00:00:00</td>\n",
              "    </tr>\n",
              "    <tr>\n",
              "      <th>99437</th>\n",
              "      <td>63943bddc261676b46f01ca7ac2f7bd8</td>\n",
              "      <td>1fca14ff2861355f6e5f14306ff977a7</td>\n",
              "      <td>delivered</td>\n",
              "      <td>2018-02-06 12:58:58</td>\n",
              "      <td>2018-02-06 13:10:37</td>\n",
              "      <td>2018-02-07 23:22:42</td>\n",
              "      <td>2018-02-28 17:37:56</td>\n",
              "      <td>2018-03-02 00:00:00</td>\n",
              "    </tr>\n",
              "    <tr>\n",
              "      <th>99438</th>\n",
              "      <td>83c1379a015df1e13d02aae0204711ab</td>\n",
              "      <td>1aa71eb042121263aafbe80c1b562c9c</td>\n",
              "      <td>delivered</td>\n",
              "      <td>2017-08-27 14:46:43</td>\n",
              "      <td>2017-08-27 15:04:16</td>\n",
              "      <td>2017-08-28 20:52:26</td>\n",
              "      <td>2017-09-21 11:24:17</td>\n",
              "      <td>2017-09-27 00:00:00</td>\n",
              "    </tr>\n",
              "    <tr>\n",
              "      <th>99439</th>\n",
              "      <td>11c177c8e97725db2631073c19f07b62</td>\n",
              "      <td>b331b74b18dc79bcdf6532d51e1637c1</td>\n",
              "      <td>delivered</td>\n",
              "      <td>2018-01-08 21:28:27</td>\n",
              "      <td>2018-01-08 21:36:21</td>\n",
              "      <td>2018-01-12 15:35:03</td>\n",
              "      <td>2018-01-25 23:32:54</td>\n",
              "      <td>2018-02-15 00:00:00</td>\n",
              "    </tr>\n",
              "    <tr>\n",
              "      <th>99440</th>\n",
              "      <td>66dea50a8b16d9b4dee7af250b4be1a5</td>\n",
              "      <td>edb027a75a1449115f6b43211ae02a24</td>\n",
              "      <td>delivered</td>\n",
              "      <td>2018-03-08 20:57:30</td>\n",
              "      <td>2018-03-09 11:20:28</td>\n",
              "      <td>2018-03-09 22:11:59</td>\n",
              "      <td>2018-03-16 13:08:30</td>\n",
              "      <td>2018-04-03 00:00:00</td>\n",
              "    </tr>\n",
              "  </tbody>\n",
              "</table>\n",
              "<p>99441 rows × 8 columns</p>\n",
              "</div>"
            ],
            "text/plain": [
              "                               order_id                       customer_id  \\\n",
              "0      e481f51cbdc54678b7cc49136f2d6af7  9ef432eb6251297304e76186b10a928d   \n",
              "1      53cdb2fc8bc7dce0b6741e2150273451  b0830fb4747a6c6d20dea0b8c802d7ef   \n",
              "2      47770eb9100c2d0c44946d9cf07ec65d  41ce2a54c0b03bf3443c3d931a367089   \n",
              "3      949d5b44dbf5de918fe9c16f97b45f8a  f88197465ea7920adcdbec7375364d82   \n",
              "4      ad21c59c0840e6cb83a9ceb5573f8159  8ab97904e6daea8866dbdbc4fb7aad2c   \n",
              "...                                 ...                               ...   \n",
              "99436  9c5dedf39a927c1b2549525ed64a053c  39bd1228ee8140590ac3aca26f2dfe00   \n",
              "99437  63943bddc261676b46f01ca7ac2f7bd8  1fca14ff2861355f6e5f14306ff977a7   \n",
              "99438  83c1379a015df1e13d02aae0204711ab  1aa71eb042121263aafbe80c1b562c9c   \n",
              "99439  11c177c8e97725db2631073c19f07b62  b331b74b18dc79bcdf6532d51e1637c1   \n",
              "99440  66dea50a8b16d9b4dee7af250b4be1a5  edb027a75a1449115f6b43211ae02a24   \n",
              "\n",
              "      order_status order_purchase_timestamp    order_approved_at  \\\n",
              "0        delivered      2017-10-02 10:56:33  2017-10-02 11:07:15   \n",
              "1        delivered      2018-07-24 20:41:37  2018-07-26 03:24:27   \n",
              "2        delivered      2018-08-08 08:38:49  2018-08-08 08:55:23   \n",
              "3        delivered      2017-11-18 19:28:06  2017-11-18 19:45:59   \n",
              "4        delivered      2018-02-13 21:18:39  2018-02-13 22:20:29   \n",
              "...            ...                      ...                  ...   \n",
              "99436    delivered      2017-03-09 09:54:05  2017-03-09 09:54:05   \n",
              "99437    delivered      2018-02-06 12:58:58  2018-02-06 13:10:37   \n",
              "99438    delivered      2017-08-27 14:46:43  2017-08-27 15:04:16   \n",
              "99439    delivered      2018-01-08 21:28:27  2018-01-08 21:36:21   \n",
              "99440    delivered      2018-03-08 20:57:30  2018-03-09 11:20:28   \n",
              "\n",
              "      order_delivered_carrier_date order_delivered_customer_date  \\\n",
              "0              2017-10-04 19:55:00           2017-10-10 21:25:13   \n",
              "1              2018-07-26 14:31:00           2018-08-07 15:27:45   \n",
              "2              2018-08-08 13:50:00           2018-08-17 18:06:29   \n",
              "3              2017-11-22 13:39:59           2017-12-02 00:28:42   \n",
              "4              2018-02-14 19:46:34           2018-02-16 18:17:02   \n",
              "...                            ...                           ...   \n",
              "99436          2017-03-10 11:18:03           2017-03-17 15:08:01   \n",
              "99437          2018-02-07 23:22:42           2018-02-28 17:37:56   \n",
              "99438          2017-08-28 20:52:26           2017-09-21 11:24:17   \n",
              "99439          2018-01-12 15:35:03           2018-01-25 23:32:54   \n",
              "99440          2018-03-09 22:11:59           2018-03-16 13:08:30   \n",
              "\n",
              "      order_estimated_delivery_date  \n",
              "0               2017-10-18 00:00:00  \n",
              "1               2018-08-13 00:00:00  \n",
              "2               2018-09-04 00:00:00  \n",
              "3               2017-12-15 00:00:00  \n",
              "4               2018-02-26 00:00:00  \n",
              "...                             ...  \n",
              "99436           2017-03-28 00:00:00  \n",
              "99437           2018-03-02 00:00:00  \n",
              "99438           2017-09-27 00:00:00  \n",
              "99439           2018-02-15 00:00:00  \n",
              "99440           2018-04-03 00:00:00  \n",
              "\n",
              "[99441 rows x 8 columns]"
            ]
          },
          "execution_count": 45,
          "metadata": {},
          "output_type": "execute_result"
        }
      ],
      "source": [
        "orders"
      ]
    },
    {
      "cell_type": "code",
      "execution_count": 46,
      "metadata": {
        "colab": {
          "base_uri": "https://localhost:8080/"
        },
        "id": "ocTrpwcwrg3b",
        "outputId": "5fe9c0ef-df67-4820-a19e-81a71e085ce7"
      },
      "outputs": [
        {
          "data": {
            "text/plain": [
              "order_id  customer_id  order_status  order_purchase_timestamp  order_approved_at  order_delivered_carrier_date  order_delivered_customer_date  order_estimated_delivery_date\n",
              "False     False        False         False                     False              False                         False                          False                            96461\n",
              "                                                                                  True                          True                           False                             1636\n",
              "                                                                                  False                         True                           False                             1183\n",
              "                                                               True               True                          True                           False                              146\n",
              "                                                                                  False                         False                          False                               14\n",
              "                                                               False              True                          False                          False                                1\n",
              "Name: count, dtype: int64"
            ]
          },
          "execution_count": 46,
          "metadata": {},
          "output_type": "execute_result"
        }
      ],
      "source": [
        "orders.isna().value_counts()"
      ]
    },
    {
      "cell_type": "code",
      "execution_count": 47,
      "metadata": {
        "colab": {
          "base_uri": "https://localhost:8080/"
        },
        "id": "-VFxfj1wrrDH",
        "outputId": "ce401477-eada-4f59-ac14-ed79101f62e5"
      },
      "outputs": [
        {
          "data": {
            "text/plain": [
              "order_id\n",
              "e481f51cbdc54678b7cc49136f2d6af7    1\n",
              "f01059d0d674e1282df4e8fbbe015aa2    1\n",
              "fbc17f0f2a2125054d5ac5c22d2d5120    1\n",
              "9373150545066777b1cd2bc20e93cf8e    1\n",
              "917399e96f92268dfa2c0351b1b75fba    1\n",
              "                                   ..\n",
              "6b8986012d61963295ffa3ea869aff86    1\n",
              "be879f757debd3b384b540daa6ddd97e    1\n",
              "ac3ce7eda1246f39509a505242fcc169    1\n",
              "e801a93b3904ca9e8350f176a037047b    1\n",
              "66dea50a8b16d9b4dee7af250b4be1a5    1\n",
              "Name: count, Length: 99441, dtype: int64"
            ]
          },
          "execution_count": 47,
          "metadata": {},
          "output_type": "execute_result"
        }
      ],
      "source": [
        "orders.order_id.value_counts()"
      ]
    },
    {
      "cell_type": "code",
      "execution_count": 48,
      "metadata": {
        "colab": {
          "base_uri": "https://localhost:8080/"
        },
        "id": "5yG9UBl1runw",
        "outputId": "08d0c6ac-eda0-4905-c930-a28e138a0cf2"
      },
      "outputs": [
        {
          "data": {
            "text/plain": [
              "customer_id\n",
              "9ef432eb6251297304e76186b10a928d    1\n",
              "413f7e58270a32396af030a075b924be    1\n",
              "eb4350b67a0264c67e5e06a038e4afbb    1\n",
              "622b07d262d545d16efbd4363a89cb91    1\n",
              "c701fbfa77791abd05eef9eacf7ea7a8    1\n",
              "                                   ..\n",
              "39585f08d13377e50fde35467984e6eb    1\n",
              "eb3d995301c320683de629f5b4dd0c78    1\n",
              "f2507ea56d748a23037bb1214964e87d    1\n",
              "ae8269d850cd3a3d06a56877c450b3f8    1\n",
              "edb027a75a1449115f6b43211ae02a24    1\n",
              "Name: count, Length: 99441, dtype: int64"
            ]
          },
          "execution_count": 48,
          "metadata": {},
          "output_type": "execute_result"
        }
      ],
      "source": [
        "orders.customer_id.value_counts()"
      ]
    },
    {
      "cell_type": "code",
      "execution_count": 49,
      "metadata": {
        "colab": {
          "base_uri": "https://localhost:8080/"
        },
        "id": "KdgyVdtBrz6S",
        "outputId": "d98eb093-c11b-4dde-941a-1aafe3bdb583"
      },
      "outputs": [
        {
          "data": {
            "text/plain": [
              "order_status\n",
              "delivered      96478\n",
              "shipped         1107\n",
              "canceled         625\n",
              "unavailable      609\n",
              "invoiced         314\n",
              "processing       301\n",
              "created            5\n",
              "approved           2\n",
              "Name: count, dtype: int64"
            ]
          },
          "execution_count": 49,
          "metadata": {},
          "output_type": "execute_result"
        }
      ],
      "source": [
        "orders.order_status.value_counts()"
      ]
    },
    {
      "cell_type": "markdown",
      "metadata": {
        "id": "q_PvmuriMHmB"
      },
      "source": [
        "### Products"
      ]
    },
    {
      "cell_type": "code",
      "execution_count": 50,
      "metadata": {
        "colab": {
          "base_uri": "https://localhost:8080/",
          "height": 444
        },
        "id": "n4NfK_4MKPu3",
        "outputId": "455fc4df-73dc-4850-abef-44210ed19ab0"
      },
      "outputs": [
        {
          "data": {
            "text/html": [
              "<div>\n",
              "<style scoped>\n",
              "    .dataframe tbody tr th:only-of-type {\n",
              "        vertical-align: middle;\n",
              "    }\n",
              "\n",
              "    .dataframe tbody tr th {\n",
              "        vertical-align: top;\n",
              "    }\n",
              "\n",
              "    .dataframe thead th {\n",
              "        text-align: right;\n",
              "    }\n",
              "</style>\n",
              "<table border=\"1\" class=\"dataframe\">\n",
              "  <thead>\n",
              "    <tr style=\"text-align: right;\">\n",
              "      <th></th>\n",
              "      <th>product_id</th>\n",
              "      <th>product_category_name</th>\n",
              "      <th>product_name_lenght</th>\n",
              "      <th>product_description_lenght</th>\n",
              "      <th>product_photos_qty</th>\n",
              "      <th>product_weight_g</th>\n",
              "      <th>product_length_cm</th>\n",
              "      <th>product_height_cm</th>\n",
              "      <th>product_width_cm</th>\n",
              "    </tr>\n",
              "  </thead>\n",
              "  <tbody>\n",
              "    <tr>\n",
              "      <th>0</th>\n",
              "      <td>1e9e8ef04dbcff4541ed26657ea517e5</td>\n",
              "      <td>perfumaria</td>\n",
              "      <td>40</td>\n",
              "      <td>287</td>\n",
              "      <td>1</td>\n",
              "      <td>225</td>\n",
              "      <td>16</td>\n",
              "      <td>10</td>\n",
              "      <td>14</td>\n",
              "    </tr>\n",
              "    <tr>\n",
              "      <th>1</th>\n",
              "      <td>3aa071139cb16b67ca9e5dea641aaa2f</td>\n",
              "      <td>artes</td>\n",
              "      <td>44</td>\n",
              "      <td>276</td>\n",
              "      <td>1</td>\n",
              "      <td>1000</td>\n",
              "      <td>30</td>\n",
              "      <td>18</td>\n",
              "      <td>20</td>\n",
              "    </tr>\n",
              "    <tr>\n",
              "      <th>2</th>\n",
              "      <td>96bd76ec8810374ed1b65e291975717f</td>\n",
              "      <td>esporte_lazer</td>\n",
              "      <td>46</td>\n",
              "      <td>250</td>\n",
              "      <td>1</td>\n",
              "      <td>154</td>\n",
              "      <td>18</td>\n",
              "      <td>9</td>\n",
              "      <td>15</td>\n",
              "    </tr>\n",
              "    <tr>\n",
              "      <th>3</th>\n",
              "      <td>cef67bcfe19066a932b7673e239eb23d</td>\n",
              "      <td>bebes</td>\n",
              "      <td>27</td>\n",
              "      <td>261</td>\n",
              "      <td>1</td>\n",
              "      <td>371</td>\n",
              "      <td>26</td>\n",
              "      <td>4</td>\n",
              "      <td>26</td>\n",
              "    </tr>\n",
              "    <tr>\n",
              "      <th>4</th>\n",
              "      <td>9dc1a7de274444849c219cff195d0b71</td>\n",
              "      <td>utilidades_domesticas</td>\n",
              "      <td>37</td>\n",
              "      <td>402</td>\n",
              "      <td>4</td>\n",
              "      <td>625</td>\n",
              "      <td>20</td>\n",
              "      <td>17</td>\n",
              "      <td>13</td>\n",
              "    </tr>\n",
              "    <tr>\n",
              "      <th>...</th>\n",
              "      <td>...</td>\n",
              "      <td>...</td>\n",
              "      <td>...</td>\n",
              "      <td>...</td>\n",
              "      <td>...</td>\n",
              "      <td>...</td>\n",
              "      <td>...</td>\n",
              "      <td>...</td>\n",
              "      <td>...</td>\n",
              "    </tr>\n",
              "    <tr>\n",
              "      <th>32946</th>\n",
              "      <td>a0b7d5a992ccda646f2d34e418fff5a0</td>\n",
              "      <td>moveis_decoracao</td>\n",
              "      <td>45</td>\n",
              "      <td>67</td>\n",
              "      <td>2</td>\n",
              "      <td>12300</td>\n",
              "      <td>40</td>\n",
              "      <td>40</td>\n",
              "      <td>40</td>\n",
              "    </tr>\n",
              "    <tr>\n",
              "      <th>32947</th>\n",
              "      <td>bf4538d88321d0fd4412a93c974510e6</td>\n",
              "      <td>construcao_ferramentas_iluminacao</td>\n",
              "      <td>41</td>\n",
              "      <td>971</td>\n",
              "      <td>1</td>\n",
              "      <td>1700</td>\n",
              "      <td>16</td>\n",
              "      <td>19</td>\n",
              "      <td>16</td>\n",
              "    </tr>\n",
              "    <tr>\n",
              "      <th>32948</th>\n",
              "      <td>9a7c6041fa9592d9d9ef6cfe62a71f8c</td>\n",
              "      <td>cama_mesa_banho</td>\n",
              "      <td>50</td>\n",
              "      <td>799</td>\n",
              "      <td>1</td>\n",
              "      <td>1400</td>\n",
              "      <td>27</td>\n",
              "      <td>7</td>\n",
              "      <td>27</td>\n",
              "    </tr>\n",
              "    <tr>\n",
              "      <th>32949</th>\n",
              "      <td>83808703fc0706a22e264b9d75f04a2e</td>\n",
              "      <td>informatica_acessorios</td>\n",
              "      <td>60</td>\n",
              "      <td>156</td>\n",
              "      <td>2</td>\n",
              "      <td>700</td>\n",
              "      <td>31</td>\n",
              "      <td>13</td>\n",
              "      <td>20</td>\n",
              "    </tr>\n",
              "    <tr>\n",
              "      <th>32950</th>\n",
              "      <td>106392145fca363410d287a815be6de4</td>\n",
              "      <td>cama_mesa_banho</td>\n",
              "      <td>58</td>\n",
              "      <td>309</td>\n",
              "      <td>1</td>\n",
              "      <td>2083</td>\n",
              "      <td>12</td>\n",
              "      <td>2</td>\n",
              "      <td>7</td>\n",
              "    </tr>\n",
              "  </tbody>\n",
              "</table>\n",
              "<p>32951 rows × 9 columns</p>\n",
              "</div>"
            ],
            "text/plain": [
              "                             product_id              product_category_name  \\\n",
              "0      1e9e8ef04dbcff4541ed26657ea517e5                         perfumaria   \n",
              "1      3aa071139cb16b67ca9e5dea641aaa2f                              artes   \n",
              "2      96bd76ec8810374ed1b65e291975717f                      esporte_lazer   \n",
              "3      cef67bcfe19066a932b7673e239eb23d                              bebes   \n",
              "4      9dc1a7de274444849c219cff195d0b71              utilidades_domesticas   \n",
              "...                                 ...                                ...   \n",
              "32946  a0b7d5a992ccda646f2d34e418fff5a0                   moveis_decoracao   \n",
              "32947  bf4538d88321d0fd4412a93c974510e6  construcao_ferramentas_iluminacao   \n",
              "32948  9a7c6041fa9592d9d9ef6cfe62a71f8c                    cama_mesa_banho   \n",
              "32949  83808703fc0706a22e264b9d75f04a2e             informatica_acessorios   \n",
              "32950  106392145fca363410d287a815be6de4                    cama_mesa_banho   \n",
              "\n",
              "      product_name_lenght product_description_lenght product_photos_qty  \\\n",
              "0                      40                        287                  1   \n",
              "1                      44                        276                  1   \n",
              "2                      46                        250                  1   \n",
              "3                      27                        261                  1   \n",
              "4                      37                        402                  4   \n",
              "...                   ...                        ...                ...   \n",
              "32946                  45                         67                  2   \n",
              "32947                  41                        971                  1   \n",
              "32948                  50                        799                  1   \n",
              "32949                  60                        156                  2   \n",
              "32950                  58                        309                  1   \n",
              "\n",
              "      product_weight_g product_length_cm product_height_cm product_width_cm  \n",
              "0                  225                16                10               14  \n",
              "1                 1000                30                18               20  \n",
              "2                  154                18                 9               15  \n",
              "3                  371                26                 4               26  \n",
              "4                  625                20                17               13  \n",
              "...                ...               ...               ...              ...  \n",
              "32946            12300                40                40               40  \n",
              "32947             1700                16                19               16  \n",
              "32948             1400                27                 7               27  \n",
              "32949              700                31                13               20  \n",
              "32950             2083                12                 2                7  \n",
              "\n",
              "[32951 rows x 9 columns]"
            ]
          },
          "execution_count": 50,
          "metadata": {},
          "output_type": "execute_result"
        }
      ],
      "source": [
        "products"
      ]
    },
    {
      "cell_type": "code",
      "execution_count": 51,
      "metadata": {
        "colab": {
          "base_uri": "https://localhost:8080/"
        },
        "id": "UE3tCMdTsHza",
        "outputId": "152898d7-e360-4c4b-ae49-5a4e3f4cd05f"
      },
      "outputs": [
        {
          "data": {
            "text/plain": [
              "product_id  product_category_name  product_name_lenght  product_description_lenght  product_photos_qty  product_weight_g  product_length_cm  product_height_cm  product_width_cm\n",
              "False       False                  False                False                       False               False             False              False              False               32340\n",
              "            True                   True                 True                        True                False             False              False              False                 609\n",
              "            False                  False                False                       False               True              True               True               True                    1\n",
              "            True                   True                 True                        True                True              True               True               True                    1\n",
              "Name: count, dtype: int64"
            ]
          },
          "execution_count": 51,
          "metadata": {},
          "output_type": "execute_result"
        }
      ],
      "source": [
        "products.isna().value_counts()"
      ]
    },
    {
      "cell_type": "code",
      "execution_count": 52,
      "metadata": {
        "colab": {
          "base_uri": "https://localhost:8080/"
        },
        "id": "GrRi4qyksO1I",
        "outputId": "c70354b4-2995-4ce4-8bf1-739b6b47d888"
      },
      "outputs": [
        {
          "data": {
            "text/plain": [
              "product_id\n",
              "1e9e8ef04dbcff4541ed26657ea517e5    1\n",
              "d05cc9afc85771f597cf4bc9d8f12546    1\n",
              "71b7afd92c42feab780d5ea512fc7348    1\n",
              "5c5f3e091101bea69642eb3dd145b17d    1\n",
              "16d47089f9bc7f16de16cc4bd3b9dd49    1\n",
              "                                   ..\n",
              "c154987c6780d1a2b579aae00e53485f    1\n",
              "1a6c9da4039deae58c2b769f049ae121    1\n",
              "4cb35e544a1de008f37e069f172f964e    1\n",
              "b34b2c889f5b26963569cf421254e121    1\n",
              "106392145fca363410d287a815be6de4    1\n",
              "Name: count, Length: 32951, dtype: int64"
            ]
          },
          "execution_count": 52,
          "metadata": {},
          "output_type": "execute_result"
        }
      ],
      "source": [
        "products.product_id.value_counts()"
      ]
    },
    {
      "cell_type": "code",
      "execution_count": 53,
      "metadata": {
        "colab": {
          "base_uri": "https://localhost:8080/"
        },
        "id": "uqmimG7CsSlG",
        "outputId": "871c0d0b-6a2f-47ab-a8e1-523dc077a98d"
      },
      "outputs": [
        {
          "data": {
            "text/plain": [
              "product_category_name\n",
              "cama_mesa_banho                  3029\n",
              "esporte_lazer                    2867\n",
              "moveis_decoracao                 2657\n",
              "beleza_saude                     2444\n",
              "utilidades_domesticas            2335\n",
              "                                 ... \n",
              "fashion_roupa_infanto_juvenil       5\n",
              "casa_conforto_2                     5\n",
              "pc_gamer                            3\n",
              "seguros_e_servicos                  2\n",
              "cds_dvds_musicais                   1\n",
              "Name: count, Length: 73, dtype: int64"
            ]
          },
          "execution_count": 53,
          "metadata": {},
          "output_type": "execute_result"
        }
      ],
      "source": [
        "products.product_category_name.value_counts()"
      ]
    },
    {
      "cell_type": "markdown",
      "metadata": {
        "id": "6H4Z5ZGZMJQh"
      },
      "source": [
        "### Sellers"
      ]
    },
    {
      "cell_type": "code",
      "execution_count": 54,
      "metadata": {
        "colab": {
          "base_uri": "https://localhost:8080/",
          "height": 424
        },
        "id": "GRlyLXfLKV5G",
        "outputId": "da0c049f-e957-416c-8dd4-0b47b264ae4f"
      },
      "outputs": [
        {
          "data": {
            "text/html": [
              "<div>\n",
              "<style scoped>\n",
              "    .dataframe tbody tr th:only-of-type {\n",
              "        vertical-align: middle;\n",
              "    }\n",
              "\n",
              "    .dataframe tbody tr th {\n",
              "        vertical-align: top;\n",
              "    }\n",
              "\n",
              "    .dataframe thead th {\n",
              "        text-align: right;\n",
              "    }\n",
              "</style>\n",
              "<table border=\"1\" class=\"dataframe\">\n",
              "  <thead>\n",
              "    <tr style=\"text-align: right;\">\n",
              "      <th></th>\n",
              "      <th>seller_id</th>\n",
              "      <th>seller_zip_code_prefix</th>\n",
              "      <th>seller_city</th>\n",
              "      <th>seller_state</th>\n",
              "    </tr>\n",
              "  </thead>\n",
              "  <tbody>\n",
              "    <tr>\n",
              "      <th>0</th>\n",
              "      <td>3442f8959a84dea7ee197c632cb2df15</td>\n",
              "      <td>13023</td>\n",
              "      <td>campinas</td>\n",
              "      <td>SP</td>\n",
              "    </tr>\n",
              "    <tr>\n",
              "      <th>1</th>\n",
              "      <td>d1b65fc7debc3361ea86b5f14c68d2e2</td>\n",
              "      <td>13844</td>\n",
              "      <td>mogi guacu</td>\n",
              "      <td>SP</td>\n",
              "    </tr>\n",
              "    <tr>\n",
              "      <th>2</th>\n",
              "      <td>ce3ad9de960102d0677a81f5d0bb7b2d</td>\n",
              "      <td>20031</td>\n",
              "      <td>rio de janeiro</td>\n",
              "      <td>RJ</td>\n",
              "    </tr>\n",
              "    <tr>\n",
              "      <th>3</th>\n",
              "      <td>c0f3eea2e14555b6faeea3dd58c1b1c3</td>\n",
              "      <td>04195</td>\n",
              "      <td>sao paulo</td>\n",
              "      <td>SP</td>\n",
              "    </tr>\n",
              "    <tr>\n",
              "      <th>4</th>\n",
              "      <td>51a04a8a6bdcb23deccc82b0b80742cf</td>\n",
              "      <td>12914</td>\n",
              "      <td>braganca paulista</td>\n",
              "      <td>SP</td>\n",
              "    </tr>\n",
              "    <tr>\n",
              "      <th>...</th>\n",
              "      <td>...</td>\n",
              "      <td>...</td>\n",
              "      <td>...</td>\n",
              "      <td>...</td>\n",
              "    </tr>\n",
              "    <tr>\n",
              "      <th>3090</th>\n",
              "      <td>98dddbc4601dd4443ca174359b237166</td>\n",
              "      <td>87111</td>\n",
              "      <td>sarandi</td>\n",
              "      <td>PR</td>\n",
              "    </tr>\n",
              "    <tr>\n",
              "      <th>3091</th>\n",
              "      <td>f8201cab383e484733266d1906e2fdfa</td>\n",
              "      <td>88137</td>\n",
              "      <td>palhoca</td>\n",
              "      <td>SC</td>\n",
              "    </tr>\n",
              "    <tr>\n",
              "      <th>3092</th>\n",
              "      <td>74871d19219c7d518d0090283e03c137</td>\n",
              "      <td>04650</td>\n",
              "      <td>sao paulo</td>\n",
              "      <td>SP</td>\n",
              "    </tr>\n",
              "    <tr>\n",
              "      <th>3093</th>\n",
              "      <td>e603cf3fec55f8697c9059638d6c8eb5</td>\n",
              "      <td>96080</td>\n",
              "      <td>pelotas</td>\n",
              "      <td>RS</td>\n",
              "    </tr>\n",
              "    <tr>\n",
              "      <th>3094</th>\n",
              "      <td>9e25199f6ef7e7c347120ff175652c3b</td>\n",
              "      <td>12051</td>\n",
              "      <td>taubate</td>\n",
              "      <td>SP</td>\n",
              "    </tr>\n",
              "  </tbody>\n",
              "</table>\n",
              "<p>3095 rows × 4 columns</p>\n",
              "</div>"
            ],
            "text/plain": [
              "                             seller_id seller_zip_code_prefix  \\\n",
              "0     3442f8959a84dea7ee197c632cb2df15                  13023   \n",
              "1     d1b65fc7debc3361ea86b5f14c68d2e2                  13844   \n",
              "2     ce3ad9de960102d0677a81f5d0bb7b2d                  20031   \n",
              "3     c0f3eea2e14555b6faeea3dd58c1b1c3                  04195   \n",
              "4     51a04a8a6bdcb23deccc82b0b80742cf                  12914   \n",
              "...                                ...                    ...   \n",
              "3090  98dddbc4601dd4443ca174359b237166                  87111   \n",
              "3091  f8201cab383e484733266d1906e2fdfa                  88137   \n",
              "3092  74871d19219c7d518d0090283e03c137                  04650   \n",
              "3093  e603cf3fec55f8697c9059638d6c8eb5                  96080   \n",
              "3094  9e25199f6ef7e7c347120ff175652c3b                  12051   \n",
              "\n",
              "            seller_city seller_state  \n",
              "0              campinas           SP  \n",
              "1            mogi guacu           SP  \n",
              "2        rio de janeiro           RJ  \n",
              "3             sao paulo           SP  \n",
              "4     braganca paulista           SP  \n",
              "...                 ...          ...  \n",
              "3090            sarandi           PR  \n",
              "3091            palhoca           SC  \n",
              "3092          sao paulo           SP  \n",
              "3093            pelotas           RS  \n",
              "3094            taubate           SP  \n",
              "\n",
              "[3095 rows x 4 columns]"
            ]
          },
          "execution_count": 54,
          "metadata": {},
          "output_type": "execute_result"
        }
      ],
      "source": [
        "sellers"
      ]
    },
    {
      "cell_type": "code",
      "execution_count": 55,
      "metadata": {
        "colab": {
          "base_uri": "https://localhost:8080/"
        },
        "id": "zISGfoemsfmc",
        "outputId": "8fe410cd-0b7f-47df-8c33-1864967dea0b"
      },
      "outputs": [
        {
          "data": {
            "text/plain": [
              "seller_id  seller_zip_code_prefix  seller_city  seller_state\n",
              "False      False                   False        False           3095\n",
              "Name: count, dtype: int64"
            ]
          },
          "execution_count": 55,
          "metadata": {},
          "output_type": "execute_result"
        }
      ],
      "source": [
        "sellers.isna().value_counts()"
      ]
    },
    {
      "cell_type": "code",
      "execution_count": 56,
      "metadata": {
        "colab": {
          "base_uri": "https://localhost:8080/"
        },
        "id": "pDd1GRWGsgyC",
        "outputId": "6920a8f8-c3a7-4831-fdda-18820a78cb7f"
      },
      "outputs": [
        {
          "data": {
            "text/plain": [
              "seller_id\n",
              "3442f8959a84dea7ee197c632cb2df15    1\n",
              "e26901d5ab434ce92fd9b5c256820a4e    1\n",
              "7e3f87d16fb353f408d467e74fbd8014    1\n",
              "9140bd1d9de28b197dce077bdd687438    1\n",
              "a2b911e9ad40dc7d61c142a4683e2d85    1\n",
              "                                   ..\n",
              "f918546be4bec7104d117789ba758b2b    1\n",
              "eb4a59a06b3948e851a7d7a830bcbc42    1\n",
              "80146bc52c4f6af5239b23de2a20262b    1\n",
              "4091f77d8c768fc3e81c20761471761d    1\n",
              "9e25199f6ef7e7c347120ff175652c3b    1\n",
              "Name: count, Length: 3095, dtype: int64"
            ]
          },
          "execution_count": 56,
          "metadata": {},
          "output_type": "execute_result"
        }
      ],
      "source": [
        "sellers.seller_id.value_counts()"
      ]
    },
    {
      "cell_type": "code",
      "execution_count": 57,
      "metadata": {
        "colab": {
          "base_uri": "https://localhost:8080/"
        },
        "id": "6dMDGRJFsjGy",
        "outputId": "39de0f11-de92-4bda-c0bf-b42bff921982"
      },
      "outputs": [
        {
          "data": {
            "text/plain": [
              "seller_city\n",
              "sao paulo              694\n",
              "curitiba               127\n",
              "rio de janeiro          96\n",
              "belo horizonte          68\n",
              "ribeirao preto          52\n",
              "                      ... \n",
              "taruma                   1\n",
              "s jose do rio preto      1\n",
              "domingos martins         1\n",
              "messias targino          1\n",
              "leme                     1\n",
              "Name: count, Length: 611, dtype: int64"
            ]
          },
          "execution_count": 57,
          "metadata": {},
          "output_type": "execute_result"
        }
      ],
      "source": [
        "sellers.seller_city.value_counts()"
      ]
    }
  ],
  "metadata": {
    "colab": {
      "authorship_tag": "ABX9TyONPimn5Aml2UYsGTrkXWEm",
      "include_colab_link": true,
      "provenance": []
    },
    "kernelspec": {
      "display_name": "Python 3",
      "name": "python3"
    },
    "language_info": {
      "codemirror_mode": {
        "name": "ipython",
        "version": 3
      },
      "file_extension": ".py",
      "mimetype": "text/x-python",
      "name": "python",
      "nbconvert_exporter": "python",
      "pygments_lexer": "ipython3",
      "version": "3.12.0"
    }
  },
  "nbformat": 4,
  "nbformat_minor": 0
}
